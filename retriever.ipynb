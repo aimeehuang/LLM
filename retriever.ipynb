{
  "nbformat": 4,
  "nbformat_minor": 0,
  "metadata": {
    "colab": {
      "provenance": []
    },
    "kernelspec": {
      "name": "python3",
      "display_name": "Python 3"
    },
    "language_info": {
      "name": "python"
    }
  },
  "cells": [
    {
      "cell_type": "markdown",
      "source": [
        "# **利用langchain chroma建立embeddings**"
      ],
      "metadata": {
        "id": "dW7aqOOMCAQk"
      }
    },
    {
      "cell_type": "code",
      "source": [
        "!pip install openai"
      ],
      "metadata": {
        "colab": {
          "base_uri": "https://localhost:8080/"
        },
        "collapsed": true,
        "id": "oJaNbFamCGv2",
        "outputId": "565e0b14-8e0f-4b30-bcd5-44cc6a45d930"
      },
      "execution_count": null,
      "outputs": [
        {
          "output_type": "stream",
          "name": "stdout",
          "text": [
            "Requirement already satisfied: openai in /usr/local/lib/python3.10/dist-packages (1.52.2)\n",
            "Requirement already satisfied: anyio<5,>=3.5.0 in /usr/local/lib/python3.10/dist-packages (from openai) (3.7.1)\n",
            "Requirement already satisfied: distro<2,>=1.7.0 in /usr/local/lib/python3.10/dist-packages (from openai) (1.9.0)\n",
            "Requirement already satisfied: httpx<1,>=0.23.0 in /usr/local/lib/python3.10/dist-packages (from openai) (0.27.2)\n",
            "Requirement already satisfied: jiter<1,>=0.4.0 in /usr/local/lib/python3.10/dist-packages (from openai) (0.6.1)\n",
            "Requirement already satisfied: pydantic<3,>=1.9.0 in /usr/local/lib/python3.10/dist-packages (from openai) (2.9.2)\n",
            "Requirement already satisfied: sniffio in /usr/local/lib/python3.10/dist-packages (from openai) (1.3.1)\n",
            "Requirement already satisfied: tqdm>4 in /usr/local/lib/python3.10/dist-packages (from openai) (4.66.5)\n",
            "Requirement already satisfied: typing-extensions<5,>=4.11 in /usr/local/lib/python3.10/dist-packages (from openai) (4.12.2)\n",
            "Requirement already satisfied: idna>=2.8 in /usr/local/lib/python3.10/dist-packages (from anyio<5,>=3.5.0->openai) (3.10)\n",
            "Requirement already satisfied: exceptiongroup in /usr/local/lib/python3.10/dist-packages (from anyio<5,>=3.5.0->openai) (1.2.2)\n",
            "Requirement already satisfied: certifi in /usr/local/lib/python3.10/dist-packages (from httpx<1,>=0.23.0->openai) (2024.8.30)\n",
            "Requirement already satisfied: httpcore==1.* in /usr/local/lib/python3.10/dist-packages (from httpx<1,>=0.23.0->openai) (1.0.6)\n",
            "Requirement already satisfied: h11<0.15,>=0.13 in /usr/local/lib/python3.10/dist-packages (from httpcore==1.*->httpx<1,>=0.23.0->openai) (0.14.0)\n",
            "Requirement already satisfied: annotated-types>=0.6.0 in /usr/local/lib/python3.10/dist-packages (from pydantic<3,>=1.9.0->openai) (0.7.0)\n",
            "Requirement already satisfied: pydantic-core==2.23.4 in /usr/local/lib/python3.10/dist-packages (from pydantic<3,>=1.9.0->openai) (2.23.4)\n"
          ]
        }
      ]
    },
    {
      "cell_type": "code",
      "source": [
        "pip install -qU \"langchain-chroma>=0.1.2\""
      ],
      "metadata": {
        "colab": {
          "base_uri": "https://localhost:8080/"
        },
        "collapsed": true,
        "id": "hlWZ9ZrFEIza",
        "outputId": "591bea25-8ece-469c-8d86-782735d05185"
      },
      "execution_count": null,
      "outputs": [
        {
          "output_type": "stream",
          "name": "stdout",
          "text": [
            "\u001b[?25l     \u001b[90m━━━━━━━━━━━━━━━━━━━━━━━━━━━━━━━━━━━━━━━━\u001b[0m \u001b[32m0.0/67.3 kB\u001b[0m \u001b[31m?\u001b[0m eta \u001b[36m-:--:--\u001b[0m\r\u001b[2K     \u001b[90m━━━━━━━━━━━━━━━━━━━━━━━━━━━━━━━━━━━━━━━━\u001b[0m \u001b[32m67.3/67.3 kB\u001b[0m \u001b[31m3.0 MB/s\u001b[0m eta \u001b[36m0:00:00\u001b[0m\n",
            "\u001b[?25h  Installing build dependencies ... \u001b[?25l\u001b[?25hdone\n",
            "  Getting requirements to build wheel ... \u001b[?25l\u001b[?25hdone\n",
            "  Preparing metadata (pyproject.toml) ... \u001b[?25l\u001b[?25hdone\n",
            "\u001b[2K   \u001b[90m━━━━━━━━━━━━━━━━━━━━━━━━━━━━━━━━━━━━━━━━\u001b[0m \u001b[32m612.5/612.5 kB\u001b[0m \u001b[31m13.4 MB/s\u001b[0m eta \u001b[36m0:00:00\u001b[0m\n",
            "\u001b[2K   \u001b[90m━━━━━━━━━━━━━━━━━━━━━━━━━━━━━━━━━━━━━━━━\u001b[0m \u001b[32m2.4/2.4 MB\u001b[0m \u001b[31m43.9 MB/s\u001b[0m eta \u001b[36m0:00:00\u001b[0m\n",
            "\u001b[2K   \u001b[90m━━━━━━━━━━━━━━━━━━━━━━━━━━━━━━━━━━━━━━━━\u001b[0m \u001b[32m94.7/94.7 kB\u001b[0m \u001b[31m5.7 MB/s\u001b[0m eta \u001b[36m0:00:00\u001b[0m\n",
            "\u001b[2K   \u001b[90m━━━━━━━━━━━━━━━━━━━━━━━━━━━━━━━━━━━━━━━━\u001b[0m \u001b[32m273.8/273.8 kB\u001b[0m \u001b[31m15.9 MB/s\u001b[0m eta \u001b[36m0:00:00\u001b[0m\n",
            "\u001b[2K   \u001b[90m━━━━━━━━━━━━━━━━━━━━━━━━━━━━━━━━━━━━━━━━\u001b[0m \u001b[32m1.9/1.9 MB\u001b[0m \u001b[31m50.7 MB/s\u001b[0m eta \u001b[36m0:00:00\u001b[0m\n",
            "\u001b[2K   \u001b[90m━━━━━━━━━━━━━━━━━━━━━━━━━━━━━━━━━━━━━━━━\u001b[0m \u001b[32m93.2/93.2 kB\u001b[0m \u001b[31m6.2 MB/s\u001b[0m eta \u001b[36m0:00:00\u001b[0m\n",
            "\u001b[2K   \u001b[90m━━━━━━━━━━━━━━━━━━━━━━━━━━━━━━━━━━━━━━━━\u001b[0m \u001b[32m13.2/13.2 MB\u001b[0m \u001b[31m43.0 MB/s\u001b[0m eta \u001b[36m0:00:00\u001b[0m\n",
            "\u001b[2K   \u001b[90m━━━━━━━━━━━━━━━━━━━━━━━━━━━━━━━━━━━━━━━━\u001b[0m \u001b[32m52.5/52.5 kB\u001b[0m \u001b[31m2.5 MB/s\u001b[0m eta \u001b[36m0:00:00\u001b[0m\n",
            "\u001b[2K   \u001b[90m━━━━━━━━━━━━━━━━━━━━━━━━━━━━━━━━━━━━━━━━\u001b[0m \u001b[32m149.7/149.7 kB\u001b[0m \u001b[31m9.6 MB/s\u001b[0m eta \u001b[36m0:00:00\u001b[0m\n",
            "\u001b[2K   \u001b[90m━━━━━━━━━━━━━━━━━━━━━━━━━━━━━━━━━━━━━━━━\u001b[0m \u001b[32m64.0/64.0 kB\u001b[0m \u001b[31m4.3 MB/s\u001b[0m eta \u001b[36m0:00:00\u001b[0m\n",
            "\u001b[2K   \u001b[90m━━━━━━━━━━━━━━━━━━━━━━━━━━━━━━━━━━━━━━━━\u001b[0m \u001b[32m110.5/110.5 kB\u001b[0m \u001b[31m7.4 MB/s\u001b[0m eta \u001b[36m0:00:00\u001b[0m\n",
            "\u001b[2K   \u001b[90m━━━━━━━━━━━━━━━━━━━━━━━━━━━━━━━━━━━━━━━━\u001b[0m \u001b[32m54.4/54.4 kB\u001b[0m \u001b[31m3.2 MB/s\u001b[0m eta \u001b[36m0:00:00\u001b[0m\n",
            "\u001b[2K   \u001b[90m━━━━━━━━━━━━━━━━━━━━━━━━━━━━━━━━━━━━━━━━\u001b[0m \u001b[32m73.3/73.3 kB\u001b[0m \u001b[31m3.2 MB/s\u001b[0m eta \u001b[36m0:00:00\u001b[0m\n",
            "\u001b[2K   \u001b[90m━━━━━━━━━━━━━━━━━━━━━━━━━━━━━━━━━━━━━━━━\u001b[0m \u001b[32m63.7/63.7 kB\u001b[0m \u001b[31m4.7 MB/s\u001b[0m eta \u001b[36m0:00:00\u001b[0m\n",
            "\u001b[2K   \u001b[90m━━━━━━━━━━━━━━━━━━━━━━━━━━━━━━━━━━━━━━━━\u001b[0m \u001b[32m442.1/442.1 kB\u001b[0m \u001b[31m24.1 MB/s\u001b[0m eta \u001b[36m0:00:00\u001b[0m\n",
            "\u001b[2K   \u001b[90m━━━━━━━━━━━━━━━━━━━━━━━━━━━━━━━━━━━━━━━━\u001b[0m \u001b[32m3.8/3.8 MB\u001b[0m \u001b[31m64.3 MB/s\u001b[0m eta \u001b[36m0:00:00\u001b[0m\n",
            "\u001b[2K   \u001b[90m━━━━━━━━━━━━━━━━━━━━━━━━━━━━━━━━━━━━━━━━\u001b[0m \u001b[32m425.7/425.7 kB\u001b[0m \u001b[31m19.2 MB/s\u001b[0m eta \u001b[36m0:00:00\u001b[0m\n",
            "\u001b[2K   \u001b[90m━━━━━━━━━━━━━━━━━━━━━━━━━━━━━━━━━━━━━━━━\u001b[0m \u001b[32m164.1/164.1 kB\u001b[0m \u001b[31m10.8 MB/s\u001b[0m eta \u001b[36m0:00:00\u001b[0m\n",
            "\u001b[2K   \u001b[90m━━━━━━━━━━━━━━━━━━━━━━━━━━━━━━━━━━━━━━━━\u001b[0m \u001b[32m46.0/46.0 kB\u001b[0m \u001b[31m2.7 MB/s\u001b[0m eta \u001b[36m0:00:00\u001b[0m\n",
            "\u001b[2K   \u001b[90m━━━━━━━━━━━━━━━━━━━━━━━━━━━━━━━━━━━━━━━━\u001b[0m \u001b[32m86.8/86.8 kB\u001b[0m \u001b[31m5.9 MB/s\u001b[0m eta \u001b[36m0:00:00\u001b[0m\n",
            "\u001b[?25h  Building wheel for pypika (pyproject.toml) ... \u001b[?25l\u001b[?25hdone\n"
          ]
        }
      ]
    },
    {
      "cell_type": "code",
      "source": [
        "pip install -qU langchain-openai"
      ],
      "metadata": {
        "colab": {
          "base_uri": "https://localhost:8080/"
        },
        "collapsed": true,
        "id": "zpAi_XJnGH-6",
        "outputId": "d4272c8a-5a46-4c6d-ace2-c383e8373939"
      },
      "execution_count": null,
      "outputs": [
        {
          "output_type": "stream",
          "name": "stdout",
          "text": [
            "\u001b[?25l   \u001b[90m━━━━━━━━━━━━━━━━━━━━━━━━━━━━━━━━━━━━━━━━\u001b[0m \u001b[32m0.0/50.4 kB\u001b[0m \u001b[31m?\u001b[0m eta \u001b[36m-:--:--\u001b[0m\r\u001b[2K   \u001b[90m━━━━━━━━━━━━━━━━━━━━━━━━━━━━━━━━━━━━━━━━\u001b[0m \u001b[32m50.4/50.4 kB\u001b[0m \u001b[31m2.0 MB/s\u001b[0m eta \u001b[36m0:00:00\u001b[0m\n",
            "\u001b[?25h\u001b[?25l   \u001b[90m━━━━━━━━━━━━━━━━━━━━━━━━━━━━━━━━━━━━━━━━\u001b[0m \u001b[32m0.0/1.2 MB\u001b[0m \u001b[31m?\u001b[0m eta \u001b[36m-:--:--\u001b[0m\r\u001b[2K   \u001b[91m━━━━━━━━━━━━━━━━━━━━━━━━━━━━━\u001b[0m\u001b[90m╺\u001b[0m\u001b[90m━━━━━━━━━━\u001b[0m \u001b[32m0.9/1.2 MB\u001b[0m \u001b[31m25.3 MB/s\u001b[0m eta \u001b[36m0:00:01\u001b[0m\r\u001b[2K   \u001b[90m━━━━━━━━━━━━━━━━━━━━━━━━━━━━━━━━━━━━━━━━\u001b[0m \u001b[32m1.2/1.2 MB\u001b[0m \u001b[31m18.1 MB/s\u001b[0m eta \u001b[36m0:00:00\u001b[0m\n",
            "\u001b[?25h"
          ]
        }
      ]
    },
    {
      "cell_type": "code",
      "source": [
        "from google.colab import drive\n",
        "\n",
        "# 掛載 Google Drive\n",
        "drive.mount('/content/drive')\n"
      ],
      "metadata": {
        "colab": {
          "base_uri": "https://localhost:8080/"
        },
        "id": "5dl_M4FKgNR2",
        "outputId": "8422e103-f81b-4ca2-9931-573453fe1a87"
      },
      "execution_count": null,
      "outputs": [
        {
          "output_type": "stream",
          "name": "stdout",
          "text": [
            "Drive already mounted at /content/drive; to attempt to forcibly remount, call drive.mount(\"/content/drive\", force_remount=True).\n"
          ]
        }
      ]
    },
    {
      "cell_type": "code",
      "source": [
        "from dotenv import load_dotenv\n",
        "import os\n",
        "\n",
        "# Load the .env file\n",
        "load_dotenv()\n",
        "\n",
        "os.environ[\"OPENAI_API_KEY\"] = os.getenv('OPENAI_API_KEY')"
      ],
      "metadata": {
        "id": "M2znLAdXFB7j"
      },
      "execution_count": null,
      "outputs": []
    },
    {
      "cell_type": "code",
      "source": [
        "from langchain_openai import OpenAIEmbeddings\n",
        "\n",
        "embeddings = OpenAIEmbeddings(model=\"text-embedding-ada-002\")"
      ],
      "metadata": {
        "id": "lrH8EGJxF61F"
      },
      "execution_count": null,
      "outputs": []
    },
    {
      "cell_type": "code",
      "source": [
        "from langchain_chroma import Chroma\n",
        "\n",
        "persist_directory = \"/content/drive/MyDrive/vector_store\"\n",
        "\n",
        "vector_store = Chroma(\n",
        "    collection_name=\"vector_store_jobs_document_short\",\n",
        "    embedding_function=embeddings,\n",
        "    persist_directory= persist_directory ,  # Where to save data locally, remove if not necessary\n",
        ")"
      ],
      "metadata": {
        "id": "sHyYxTDSGThE"
      },
      "execution_count": null,
      "outputs": []
    },
    {
      "cell_type": "code",
      "source": [
        "import re\n",
        "from langchain_core.documents import Document\n",
        "import json\n",
        "\n",
        "with open('job_description_short.txt', 'r', encoding=\"utf-8\") as file:\n",
        "    lines = file.readlines()\n",
        "    documents = []\n",
        "    id_list = []\n",
        "    for job in lines:\n",
        "      if job.strip():  #確保行不為空\n",
        "          job = job.replace(\"'\", '\"')\n",
        "          job_no = json.loads(job)['job_no']\n",
        "          #id_list.append(job_no)\n",
        "          job = job.strip()\n",
        "          job = job.replace(\"\\\\n\", \" \")\n",
        "          job = job[:2000]\n",
        "          documents=Document(\n",
        "          page_content= job,\n",
        "          metadata={\"source\": \"recommendation\"},\n",
        "          id = job_no)\n",
        "          vector_store.add_documents([documents], ids = [job_no])\n"
      ],
      "metadata": {
        "id": "gPKqPPLzGtne"
      },
      "execution_count": null,
      "outputs": []
    },
    {
      "cell_type": "code",
      "source": [
        "vector_store.get(include=[\"embeddings\", \"documents\"])"
      ],
      "metadata": {
        "colab": {
          "base_uri": "https://localhost:8080/"
        },
        "collapsed": true,
        "id": "S8mBronJScWR",
        "outputId": "05409685-3d09-407c-ac70-a209fb001fb7"
      },
      "execution_count": null,
      "outputs": [
        {
          "output_type": "execute_result",
          "data": {
            "text/plain": [
              "{'ids': ['8i1vf', '8anmk', '8e5se', '8iejf', '714cp', '8fhgl', '8ebty'],\n",
              " 'embeddings': array([[-2.59150099e-02, -1.26332296e-02, -3.32551170e-03, ...,\n",
              "         -8.82974919e-03, -8.45142733e-03, -1.81729347e-02],\n",
              "        [-3.35998759e-02,  6.34850236e-03,  1.66794602e-02, ...,\n",
              "          1.52939674e-03, -1.84866246e-02,  1.16963708e-03],\n",
              "        [-2.28178240e-02, -4.05800380e-02, -1.08056853e-03, ...,\n",
              "         -1.00030741e-02, -4.48786579e-02, -9.66513250e-03],\n",
              "        ...,\n",
              "        [-1.31101422e-02, -6.67547015e-03,  1.02941366e-02, ...,\n",
              "         -2.14712024e-02, -3.06884348e-02,  1.69562292e-03],\n",
              "        [-3.00195832e-02, -7.44784847e-05,  2.05269046e-02, ...,\n",
              "          1.04460039e-03, -2.38398761e-02, -9.72762937e-04],\n",
              "        [-3.25273499e-02, -4.71238280e-03,  1.09762801e-02, ...,\n",
              "         -1.58417728e-02, -3.25273499e-02, -2.35789269e-03]]),\n",
              " 'documents': ['{\"job_no\": \"8i1vf\", \"job_company\": \"台灣英特艾倫人力資源有限公司\", \"job_company_link\": \"https://www.104.com.tw/company/1a2x6bj0ov?jobsource=index_job_r\", \"job_name\": \"【純遠端】新創遊戲公司誠徵- 中高級數值 全職\", \"job_salary\": \"月薪50,000~150,000元\", \"job_description\": \"1、負責遊戲的數值體系設計，公式和流程設計； 2、建立遊戲資料結構、數學模型、數值框架及數值操作流程，並不斷完善； 3、能夠運用常用的數值設計方法與實現工具，進行有效的數值模擬和實踐； 4、負責遊戲數學模型設計；\", \"job_location\": \"台北市信義區\", \"job_requirements\": \"1、大學以上學歷，數學相關專業，精通數理統計、機率模型(有精算相關知識優先)； 2、有遊戲數值策劃相關工作經驗優先； 3、具備優秀的邏輯思維能力和資料分析能力，具備優秀的理解能力和溝通能力，善於口頭和文案等表達； 4、有數學建模能力並能針對性模擬(R、Ptyhon、VBA等皆可) 5、會程式設計語言 (Python、C++、Golang、Perl、PHP、Java、R)優先。\", \"job_welfare\": \"本公司依照各國勞基法令, 並給予更為優渥的福利措施 1. 每年生日假 2. 每年生日獎金 3. 抽成獎金 4. 年終獎金 5. 每年國內外旅遊 6. 專業證照培訓 7. 彈性工作時間 8. 台灣區員工依法提供勞保、健保及勞退 9. 特休假給予\", \"company_intro\": \"協助客戶制定招聘策略、招聘優秀人才、培訓和發展員工、管理薪酬福利等方面\", \"company_product\": \"協助客戶制定招聘策略、招聘優秀人才、培訓和發展員工、管理薪酬福利等方面\", \"company_location\": \"協助客戶制定招聘策略、招聘優秀人才、培訓和發展員工、管理薪酬福利等方面\"}',\n",
              "  '{\"job_no\": \"8anmk\", \"job_company\": \"亞虎科技股份有限公司\", \"job_company_link\": \"https://www.104.com.tw/company/1a2x6bkx7r?jobsource=index_job_r\", \"job_name\": \"數據分析師/資料科學家 全職\", \"job_salary\": \"月薪80,000元以上\", \"job_description\": \"1.彙整、分析與定期產出各遊戲類型的監測資料或報告 。 2.數據預處理、特徵工程、模型選擇/融合、模型訓練/測試、數據問題分析及解決、模型評估的程式開發。 3.機器學習、深度學習或其他相關演算法開發 4.數據與機器學習模型可視化處理 5.修改、維護上市的資料分析系統產品 6.依專案需求，參與系統架構流程規劃 7. 協助研發資料分析的新技術與新工具\", \"job_location\": \"台北市松山區南京東路三段248號10樓\", \"job_requirements\": \"1.具備大數據處理之相關技術並熟悉統計原理與實際應用 2.孰悉使用Python程式語言 3.孰悉資料庫及SQL語言應用（Database/Coding） 4.資料視覺化呈現能力如孰悉Tableau 或 Power BI等尤佳 5.具備工作熱忱與團隊合作精神,善於溝通與解決問題 6.資料科學家須具備機器學習與人工智慧（Machine Learning and AI）建模之能力與實作經驗\", \"job_welfare\": \"【 自主彈性的上班時間】 ￭沒有主管沒下班你就不能下班的傳統文化 只要任務完成，就打卡下班吧  【最有錢途的薪資結構】 ￭優渥工資、端午節獎金、中秋節獎金、年終獎金 ￭保障年薪最低14個月  【最有保障的勞基福利】 ￭勞保、健保及團保，依照實際薪資級距投保 ￭完善的退休金制度，樂活退休不用愁  【最享生活的休假制度】 ￭週休二日開心放 ￭有薪特休假爽爽放  ￭每月生理假窩心放  【最狂的夢幻福利】 ￭團體保險，彌補勞健保險之不足、提供完善醫療照顧，工作無慮。 ￭我們重視每位員工的健康，提供每年一次健康檢查補助。 ￭享舒適上班環境，每月再享下午茶 ￭免費零食櫃 、咖啡飲料隨你喝，把你餵飽飽 ￭不定期員工緊餐，一起吃遍各大餐廳 ￭歲末年終共享尾牙春酒  【交通便利】 ￭位於捷運南京復興站5號出口，到站即到公司 ￭周邊商圈用餐方便\", \"company_intro\": \"因地制宜，提供遊戲策略佈局 成效分析，開發更具高黏著度產品 投其所好，精準推薦玩家遊戲提高客戶獲利 開發預測，搶先鎖定目標市場贏得商機 風險控管，監控潛在風險保障利益 24小時待命，即時回報保障客戶營運實況 多國支援，持續提供各國在地語言及貨幣 串流平台，支援手機、平板及PC裝置的跨平台遊戲\", \"company_product\": \"因地制宜，提供遊戲策略佈局 成效分析，開發更具高黏著度產品 投其所好，精準推薦玩家遊戲提高客戶獲利 開發預測，搶先鎖定目標市場贏得商機 風險控管，監控潛在風險保障利益 24小時待命，即時回報保障客戶營運實況 多國支援，持續提供各國在地語言及貨幣 串流平台，支援手機、平板及PC裝置的跨平台遊戲\", \"company_location\": \"因地制宜，提供遊戲策略佈局 成效分析，開發更具高黏著度產品 投其所好，精準推薦玩家遊戲提高客戶獲利 開發預測，搶先鎖定目標市場贏得商機 風險控管，監控潛在風險保障利益 24小時待命，即時回報保障客戶營運實況 多國支援，持續提供各國在地語言及貨幣 串流平台，支援手機、平板及PC裝置的跨平台遊戲\"}',\n",
              "  '{\"job_no\": \"8e5se\", \"job_company\": \"信義房屋股份有限公司\", \"job_company_link\": \"https://www.104.com.tw/company/a9pjy3k?jobsource=index_job_r\", \"job_name\": \"【PropTech數位人才招募】AI研究員/數據科學家│AI數據應用發展 全職\", \"job_salary\": \"（經常性薪資達 4 萬元或以上）待遇面議\", \"job_description\": \"【關於PropTech數位人才招募計劃】 信義企業集團的各項產品與計畫正融入大數據、機器學習與人工智慧等應用，我們的數位團隊也持續致力於「房地產科技創新」與「數位居住生活」兩大面向，以創新智能工具，為使用者提供超乎想像的服務體驗。 我們希望讓居住在這片土地上的人們，在「不動產交易買賣」與「居住生活日常」有更好的保障與體驗，也期待你與我們一起，加速這個改變。 這裡匯聚了40年的集團產業資源，以及多元化的人才；接下來，想邀請你加入，與我們一起創造超乎想像的體驗，成就即將到來的未來！  【職務說明】#團隊擴編 一起成為加速AI應用的推動者 1. 研究最新AI演算法與應用，利用AI技術支持概念實現 2. 協助建立並優化AI模型，提升預測精確度 3. 與跨部門團隊合作，將AI技術整合到實際業務場景中\", \"job_location\": \"台北市信義區信義路五段100號(110)\", \"job_requirements\": \"1. 3年以上人工智慧/機器學習/深度學習，並有實際專案應用經驗 2. 對數據分析與演算法解決商業問題有高度興趣 3. 熟悉AI框架如TensorFlow, PyTorch等，熟悉程式語言如Python, SQL 4. 具備獨立研究與快速學習新技術的能力 5. 關注AI領域最新研究動向，並能將其應用到實際場景中 6. 邏輯思考能力強，且具良好溝通能力 7. 有耐心，思考清晰有條理、能換位溝通最重要  加分條件： 有實戰經驗：對商業議題能釐清並評估需求、定義假說並實驗設計、驗證優化後完成觀察指標設計\", \"job_welfare\": \"對信義房屋而言，人才不是財產，而是夥伴。我們深知人才影響企業的榮枯，要提供好的服務體驗，首要，就要善待人才。  ※身心健康有保障※ 1.【員工健檢】優於法令的方案，免費新人健檢，每2年享有一次免費健檢，滿40歲夥伴每年皆享有健檢。 2.【健康管理師】公司聘請專屬健康管理師為夥伴的生理、心理健康把關。 3.【視障按摩師】公司提供專業視障按摩師服務，紓解身心壓力，善盡社會責任。 4.【同仁協助方案(EAP)】外部專業團隊諮詢服務，守護同仁全方位身心平衡。 5.【給薪志工假】每年一天給薪志工假，與夥伴一同手心向下回饋社會。  ※創造品質生活※ 1.【薪酬獎勵】極具競爭力的薪酬、年終及績效獎金，績優仲介業務同仁更享長期發展獎金，以及海外獎勵旅遊。 2.【長期投資】員工紅利分配、員工持股信託補助，成為企業發展的重要夥伴。 3.【生育補助】第一胎$3,000，第二胎(含)以上每胎補助$120,000及子女托育補助。 4.【買房優惠】提供夥伴與夥伴家人買賣房地產服務費優惠，成就自己的家業夢想。 5.【社團活動】每年舉辦多項運動賽事，籃球、羽球及慢壘等，多元社團豐富生活。  6.【彈性出勤】總公司部分幕僚單位實施7:30~10:00之間彈性打卡，不必擔心上班要急著趕車。  ※職場學習不間斷※ 1.【在職進修補助】外訓補助、考取不動產經紀人證照補助與證照加給獎金。 2.【完整培訓計畫】企業內部專業講師與師徒制雙軌並行，打造全方位人才。 3.【晉升無雙黃線】升遷制度公平透明，不論資歷，只論實力。 4.【多元學習】語言、金融理財及管理技能等課程，吸收各領域新知，成為多工的能者。  ※彈性福利自由配※ 房仲業界首創彈性福利，依照自己的需求使用「信福幣」，每年變相加薪1~1.5萬！ 1.【家庭照顧】夥伴家人的自費疫苗、健檢一手包辦。 2.【學習成長】線上/線下課程、各項書籍，學習歷程無憂慮。 3.【健康維護】從健身房、運動中心到瑜珈課，還有防疫用品補助金一起抗「疫」。 4.【環境保護】電動機車節能減碳，改變環境從代步工具做起！\", \"company_intro\": \"信義企業集團秉持「以人為本」的信義精神，以「堅持企業社會責任，成就世界級服務業」為願景目標，以信義房屋為起點，採取不動產為主要經營範疇的垂直化經營策略，發展出台灣核心事業群、台灣關係事業群、海外仲介事業群、開發事業群、觀光旅遊事業群以及文化公益事業群六大事業群為發展基礎，建構滿足住與生活的需求！  1.台灣核心事業群：信義房屋、信義代銷、信義鑑定 2.台灣關係事業群：',\n",
              "  '{\"job_no\": \"8iejf\", \"job_company\": \"騰雲科技服務股份有限公司\", \"job_company_link\": \"https://www.104.com.tw/company/1a2x6bjoni?jobsource=index_job_r\", \"job_name\": \"數據分析顧問(Data Analyst Consultant)(擴編招募中) 全職\", \"job_salary\": \"（經常性薪資達 4 萬元或以上）待遇面議\", \"job_description\": \"✅ 公司簡介  1. AI軟體商騰雲科技(股票代號6870) 是台灣實體場域業者數位轉型解決方案龍頭，其雲端化AI方案結合數據、算法、算力等軟體研發核心及軟硬整合技術，提供多元化解決方案，建構跨國OMO解決方案生態，鎖定整合百貨商場與零售通路客流、商流、金流一站式解決方案。 2. 我們經常接觸新興資訊科技、AI人工智慧、數據分析、資料視覺化、軟體開發及整合等議題，服務型態則是陪伴客戶共同構建解決方案、發掘數據洞見與價值，並提供專業的諮詢建議。  ✅ 工作簡介 1. 協助客戶定義其資料分析、預測等資料應用場景，執行階段包含需求分析、規劃、提案、執行與交付。 2. 設計企業藍圖的資料視覺化報表與儀錶板 3. 規劃數據產品的資料字典(Data Dictionary)與資料目錄 (Data Catalog)  ✅必要條件 1. 對數據分析、資料科學有熱誠，並願意從事顧問服務  2. 具有數據分析工具經驗  3. 有社交能力，願意跟同事、客戶溝通需求，注重團隊合作且不排斥出差    ✅ 加分條件 1. 熟悉資料處理語言(如SQL, Python)，能夠善用該語言相關套件進行資料清洗、轉換。 2. 熟悉任一關聯式資料庫(包括不限於SQL Server)與開發預存程序(Stored Procedure)。  *薪資待遇 可依學經歷相關經驗另談 *面試演示專案文件、程式碼、作品集Demo可增加錄取率 *面試含顧問基礎邏輯測試\", \"job_location\": \"新北市汐止區新台五路一段99號11樓之11\", \"job_welfare\": \"《我們強化-福利體驗》 ❚ 生日禮金、中秋禮金、端午禮金、開工紅包 ❚ 部門聚餐補助、旅遊補助津貼、結婚禮金、生育禮金 ❚ 住院慰問金、喪葬奠儀 ❚ 福委會加碼發放--生日禮金、三節禮卷、五一勞動節禮卷 ❚ 年度展望餐會、春酒、聖誕活動餐會/抽獎/員工小禮 ❚ 年終績效獎金 (依公司營運狀況及員工績效表現而定) ❚ 每年調薪評估 (依公司營運狀況及員工績效表現而定)  《我們關心-通勤安全》 ❚ 上下班時間:9:00-18:00，午休1小時 (彈性上下班：前後半小時)  《我們提供-友善工作環境》  ❚明亮舒適的辦公區  ❚茶水間提供現煮香醇咖啡  ❚餅乾小點心提供  《我們注重-身心平衡健康照顧》  ❚員工諮詢關懷協助  ❚醫護臨場健康服務 ❚員工健檢補助(依勞工健康保護規則)、健檢公假  《我們在乎-職涯發展》 ❚ 新進訓練、職安觀念、性平宣導、不法侵害課程 ❚ 衛教宣導及免費講座資源提供: 職能進化/工作家庭平衡/職場療癒講座 ❚ CEO分享交流會\", \"company_intro\": \"《Turn Cloud-騰雲科技 》  提供一條龍開店營運技術服務 ，降低門店的開店門檻，減少營運成本。  包含： ❚ 行動智慧收付裝置 ❚ 會員活動應用 ❚ 整合支付工具 ❚ 搭建行銷平台  更多影音資訊-騰雲科技「科技創造智慧生活」 https://www.youtube.com/watch?v=yBFnskhvLsI https://www.youtube.com/watch?v=tRDlHJQfmvo\", \"company_product\": \"《Turn Cloud-騰雲科技 》  提供一條龍開店營運技術服務 ，降低門店的開店門檻，減少營運成本。  包含： ❚ 行動智慧收付裝置 ❚ 會員活動應用 ❚ 整合支付工具 ❚ 搭建行銷平台  更多影音資訊-騰雲科技「科技創造智慧生活」 https://www.youtube.com/watch?v=yBFnskhvLsI https://www.youtube.com/watch?v=tRDlHJQfmvo\", \"company_location\": \"《Turn Cloud-騰雲科技 》  提供一條龍開店營運技術服務 ，降低門店的開店門檻，減少營運成本。  包含： ❚ 行動智慧收付裝置 ❚ 會員活動應用 ❚ 整合支付工具 ❚ 搭建行銷平台  更多影音資訊-騰雲科技「科技創造智慧生活」 https://www.youtube.com/watch?v=yBFnskhvL',\n",
              "  '{\"job_no\": \"714cp\", \"job_company\": \"英屬維京群島商瑞嘉耐思科技有限公司台灣分公司\", \"job_company_link\": \"https://www.104.com.tw/company/1a2x6bl8e6?jobsource=index_job_r\", \"job_name\": \"Data Engineer / 數據工程師 全職\", \"job_salary\": \"月薪62,162~154,348元\", \"job_description\": \"工作內容:  •  Designing and maintaining cloud-based data warehouse, including data collection, modeling and storage. •  Maintaining batch and streaming pipelines, ensuring data quality. •  Developing data APIs based on product requirements and deploying to Kubernetes using Gitlab CI/CD. •  Understanding user needs and handling data retrieval and support dashboard tasks. •  Continuously learning and optimizing data architectures and introducing new technologies.\", \"job_location\": \"台北市內湖區瑞湖街58號3樓\", \"job_requirements\": \"【MUST HAVE】 •  B.S. in Computer Science or a related technical field. •  Minimum 1 year of programming or scripting experience (e.g. Python, C#.) •  Experience with data cleaning, visualization, and reporting. •  Good understanding of data mining and data modeling techniques. •  Knowledge of SQL databases and database query languages. •  Good teamwork and communication skills.  【NICE TO HAVE】 •  Experience with cloud platforms (e.g. GCP, AWS, Azure). •  Experience with EDW (e.g. BigQuery, Redshift) •  Experience with Docker, Kubernetes. •  Fluent in English.\", \"job_welfare\": \"✪ 本公司所聘任之正職人員得享有以下福利；工讀生/約聘人員之福利則依公司其它相關規定辦理。  ✪ 具市場競爭力的優渥待遇 + 績效獎金(一年兩次，視年度營運及個人績效而定)。 • 提供具競爭力的薪資及保障年薪14個月。 • 年節獎金。 • 久任獎金10萬起。  ✪ 提供優於勞動法規的休假制度，讓員工都能充足休憩釋放壓力，也有更多時間與家人朋友相處。 • 一年12天特休，爾後每滿一年加1天，上限30天。 • 員工生日當月可享有生日假。 • 每年提供12天全薪病假。  ✪ 提供多項補助津貼，照護員工基本生活需求。 • 結婚禮金1萬起。 • 生育津貼3萬起。 • 生日禮券(金)。 • 住院及喪葬慰問金。  ✪ 提供周全的保險及醫療、健康等服務，關心員工健康狀態。 • 依據法規實行勞保、健保、勞退保險制度。 • 提供高額團體保險制度，以提高員工意外醫療保障。 • 提供員工年度定期健康檢查。(眷屬自付健檢費，可享有與員工同等的健檢項目) • 健康整脊及按摩服務。  ✪ 規劃多樣休閒活動，讓員工在參與活動之餘，更能貼近及認知公司文化。 • 各類健身活動(拳擊有氧、拉丁有氧、健身活動及球類運動)。 •\\\\t多元化的社團活動(羽球社、籃球社、排球社、電影社、瑜珈社)。 • 定期舉辦慶生會(外燴或包場電影欣賞)。 • 每季部門聚餐。 • 年度國外旅遊。(已旅遊景點：杜拜、澳洲、法國、荷蘭、比利時、日本、沖繩、泰國、韓國、香港、峇里島、持續環遊世界中…)  ✪ 提供一個充滿活力和人性化的美式工作環境，讓員工在工',\n",
              "  '{\"job_no\": \"8fhgl\", \"job_company\": \"烽泰科技有限公司\", \"job_company_link\": \"https://www.104.com.tw/company/1a2x6blafo?jobsource=index_job_r\", \"job_name\": \"資料科學家 Data Scientist 全職\", \"job_salary\": \"（經常性薪資達 4 萬元或以上）待遇面議\", \"job_description\": \"丨此職務另有KPI獎金丨  【您需要做什麼？】 1.\\\\t設計與建立機器學習及深度學習模型，包括數據清洗、特徵工程、模型建置與參數調優 2.\\\\t應用數據挖掘、機器學習、深度學習、最佳化技術來開發推薦系統與決策支持模型 3.\\\\t設計效能指標並進行模型驗證與優化，確保模型在實際應用中的準確性與效能 4.\\\\t進行模型生命週期管理，持續監控並改進模型預測效果與執行效率 5.\\\\t進行資料分析，製作簡報並定期彙整實驗結果與研究發現，向內外部進行有效簡報 6.\\\\t其他主管交辦任務  【您需要具備什麼？】 1.\\\\t擁有資料分析領域的相關經驗，包括數據挖掘、機器學習、深度學習、最佳化、統計模型及自然語言處理（NLP）等 2.\\\\t熟悉Python 及相關函式庫（如 NumPy、Pandas、Scikit-learn、TensorFlow、PyTorch 等） 3.\\\\t擁有模型優化及參數調整的實務經驗 4.\\\\t具備工作熱忱與團隊合作精神，善於溝通與解決問題  【加分條件】 1.\\\\t具財務、金融相關經驗或證照 2.\\\\t英文TOEIC800分以上或相等程度為佳   ★國定假日視情況需排班出勤(可遠端工作，依法給予加班) ★週六補班日不用補班，但國定假日沒有彈性放假制度 ★請攜帶過去曾有的作品集，請於面談階段展示 ★依專業能力與經驗程度核薪\", \"job_location\": \"台北市大同區南京西路捷運中山站六號出口共構大樓\", \"job_welfare\": \"~~正職人員得享有以下福利~~  ◆ 獎金／禮品類 1. 年終獎金 2. 三節獎金／禮品（通過試用期後之正職同仁，享有中秋、端午節各0.5個月薪為禮金，年資未滿一年者依比例計算） 3. 績效獎金 4. 生日禮券 5. 勞動節禮品 6. 開工紅包 7. 推薦獎金  ◆ 休假制度類 1. 週休二日 2. 特休／年假 3. 陪產假／陪產檢假 4. 優於法規的產假 5. 育嬰假 6. 生理假 7. 生日假，沒有什麼比生日更重要！ 8. 有薪聖誕假，跟親朋好友一起過節吧：） 9. 有薪病假（6天／年），在乎同仁的健康，身體不適好好休息 10. 有薪家庭照顧假（3天／年）  ◆ 訓練制度類 1. 新人訓練：協助新人瞭解公司、瞭解工作進入狀況 2. 職能訓練：引導同仁學習工作相關知識與技能，發展職涯學習藍圖 3. 國際金融證照考取補助  ◆ 補助類 1. 結婚禮金 2. 生育津貼 3. 教育訓練補助 4. 育兒津貼（未滿六歲，每半年補助一次） 5. 社團補助 6. 依職務需求，另有輪班津貼 7. 部門聚餐補助 8. 健康檢查補助 9. 員工旅遊補助 10. 施打流感疫苗費用補助（依公告期間，上限1,500元/人）  ◆  休閒及娛樂  1. 聖誕Party活動 2. 年度員工旅遊 3. 其他不定期各項福利活動  ◆ 工作環境／文化 1. 扁平化管理，年輕有活力的工作團隊 2. 整潔舒適的辦公環境及好相處的主管及同事 3. 便利的交通設施，離MRT中山站步行不到5分鐘 4. 我們互相尊重、講求效率與團隊合作 5. 寬敞無隔間的辦公環境，隨時與夥伴對話交流  ◆ 幸福職場 1. 不定期舉辦團康活動或運動類競賽 2. 自由取用的咖啡機、茶包（使用星巴克咖啡豆、天仁茗茶） 3. 每月歡樂慶生會及每月下午茶 4. 免費零食飲料供應 5. 定期舉辦健康檢查，關心您的身體 6. 專業醫生／護理師駐點健康服務 7. Happy社團：桌球社、羽球社、籃球社、咖啡社、電影欣賞社等 8. 彈性上、下班時間制度（輪班部門不適用）   ★★★福利持續增加／修訂中，有更好的福利，歡迎加入提出★★★\", \"company_intro\": \"數據分析、數據抓取、管理模型建構、軟體設計開發、自動化應用、程式模組設計開發、自動化監控、警示等相關業務。\", \"company_product\": \"數據分析、數據抓取、管理模型建構、軟體設計開發、自動化應用、程式模組設計開發、自動化監控、警示等相關業務。\", \"company_location\": \"數據分析、數據抓取、管理模型建構、軟體設計開發、自動化應用、程式模組設計開發、自動化監控、警示等相關業務。\"}',\n",
              "  '{\"job_no\": \"8ebty\", \"job_company\": \"宏碁股份有限公司\", \"job_company_link\": \"https://www.104.com.tw/company/9kgoqw8?jobsource=index_job_r\", \"job_name\": \"Data Analyst 全職\", \"job_salary\": \"（經常性薪資達 4 萬元或以上）待遇面議\", \"job_description\": \"1. Managing multiple data sources for sales, user behavior, and digital marketing. 2. Developing and maintaining data workflows to ensure data quality.  3. Creating best-practice reports through analysis and visualization. 4. Developing diagnostic and predictive models to assist with business decisions. 5. Studying data and researching business issues to uncover insights.\", \"job_location\": \"新北市汐止區新台五路一段88號\", \"job_requirements\": \"Background: A bachelor’s degree in computer science, Information Management, Statistics, or a comparable discipline is required  Personality: Self-motivated, passionate about the use of data to drive business development, enjoy being challenged by the best and create world-shaping impact.  Requirements: 1. Expertise in database technology and the ability to write complex SQL queries to retrieve the required data. 2. Proficient in Python and analytical modules such as pandas and matplotlib and experienced in developing analytical tools. 3. Familiar with basic statistics and machine learning concepts.  Work experience: 1. 1+ year of experience in SQL and Python development. 2. Experience in dashboard development. 3. Strong experience in using Excel.\", \"job_welfare\": \"★ 本公司聘任之正職人員得享有以下福利，約聘人員之福利則依公司其他相關規定辦理。  √ 年終獎金、中秋與端午禮金，並視公司營運狀況及個人績效發放目標獎金  √ 員工分紅   √ 人性化管理及健全升遷發展制度   【貼心的差勤管理制度】 √ 彈性自主管理的上下班時間 √ 優於勞基法的休假制度 - 通過試用考核即享有7天年假 - 可預支次年度特休假 - 每年享有15天全薪病假 - 每年享有2天有薪志工假 - 當年度特休休完，另可申請４天有薪樂活假  【正向紓壓的工作環境】 √ 活潑又能激發創意的辦公空間 √ 不同風格主題的會議空間 √ 多元的休閒空間 -員工健身房：提供豐富多元健身器材及團體課程，工作之餘也能放鬆身心、兼顧健康 -員工休閒區：提供桌球、撞球、韻律教室……等設施 -咖啡交誼廳：自助式咖啡茶飲交誼空間 -圖書空間：提供實體閱覽室及線上圖書館 -藝文走廊：每月規劃展出名家畫作、攝影作品等藝文展品。 -頂樓籃球場：工作之餘的放鬆運動空間 √ 應景的節慶佈置  【家庭照顧與支持】  √ 三節禮金及生日禮金  √ 婚喪喜慶補助：提供結婚、生育、住院、喪葬補助  √ 全家人的保險保障：提供員工免費與眷屬優惠自費的團體保險、保險公司駐點人員專業服務  √ 子女教育獎學金  √ 多樣化的特約廠商 √Acer Baby-員工育兒協助'],\n",
              " 'uris': None,\n",
              " 'data': None,\n",
              " 'metadatas': None,\n",
              " 'included': [<IncludeEnum.embeddings: 'embeddings'>,\n",
              "  <IncludeEnum.documents: 'documents'>]}"
            ]
          },
          "metadata": {},
          "execution_count": 23
        }
      ]
    },
    {
      "cell_type": "code",
      "source": [
        "results = vector_store.similarity_search_with_score(\n",
        "    \"與房地產有關的職缺?\", k=2 #, filter={\"source\": \"news\"}\n",
        ")\n",
        "for res, score in results:\n",
        "    print(f\"* [SIM={score:3f}] {res.page_content} [{res.metadata}]\")"
      ],
      "metadata": {
        "colab": {
          "base_uri": "https://localhost:8080/"
        },
        "id": "JPOfOkkCnqJc",
        "outputId": "837b7521-2835-42e8-be8e-3426bbd39b72"
      },
      "execution_count": null,
      "outputs": [
        {
          "output_type": "stream",
          "name": "stdout",
          "text": [
            "* [SIM=0.353143] {\"job_no\": \"8e5se\", \"job_company\": \"信義房屋股份有限公司\", \"job_company_link\": \"https://www.104.com.tw/company/a9pjy3k?jobsource=index_job_r\", \"job_name\": \"【PropTech數位人才招募】AI研究員/數據科學家│AI數據應用發展 全職\", \"job_salary\": \"（經常性薪資達 4 萬元或以上）待遇面議\", \"job_description\": \"【關於PropTech數位人才招募計劃】 信義企業集團的各項產品與計畫正融入大數據、機器學習與人工智慧等應用，我們的數位團隊也持續致力於「房地產科技創新」與「數位居住生活」兩大面向，以創新智能工具，為使用者提供超乎想像的服務體驗。 我們希望讓居住在這片土地上的人們，在「不動產交易買賣」與「居住生活日常」有更好的保障與體驗，也期待你與我們一起，加速這個改變。 這裡匯聚了40年的集團產業資源，以及多元化的人才；接下來，想邀請你加入，與我們一起創造超乎想像的體驗，成就即將到來的未來！  【職務說明】#團隊擴編 一起成為加速AI應用的推動者 1. 研究最新AI演算法與應用，利用AI技術支持概念實現 2. 協助建立並優化AI模型，提升預測精確度 3. 與跨部門團隊合作，將AI技術整合到實際業務場景中\", \"job_location\": \"台北市信義區信義路五段100號(110)\", \"job_requirements\": \"1. 3年以上人工智慧/機器學習/深度學習，並有實際專案應用經驗 2. 對數據分析與演算法解決商業問題有高度興趣 3. 熟悉AI框架如TensorFlow, PyTorch等，熟悉程式語言如Python, SQL 4. 具備獨立研究與快速學習新技術的能力 5. 關注AI領域最新研究動向，並能將其應用到實際場景中 6. 邏輯思考能力強，且具良好溝通能力 7. 有耐心，思考清晰有條理、能換位溝通最重要  加分條件： 有實戰經驗：對商業議題能釐清並評估需求、定義假說並實驗設計、驗證優化後完成觀察指標設計\", \"job_welfare\": \"對信義房屋而言，人才不是財產，而是夥伴。我們深知人才影響企業的榮枯，要提供好的服務體驗，首要，就要善待人才。  ※身心健康有保障※ 1.【員工健檢】優於法令的方案，免費新人健檢，每2年享有一次免費健檢，滿40歲夥伴每年皆享有健檢。 2.【健康管理師】公司聘請專屬健康管理師為夥伴的生理、心理健康把關。 3.【視障按摩師】公司提供專業視障按摩師服務，紓解身心壓力，善盡社會責任。 4.【同仁協助方案(EAP)】外部專業團隊諮詢服務，守護同仁全方位身心平衡。 5.【給薪志工假】每年一天給薪志工假，與夥伴一同手心向下回饋社會。  ※創造品質生活※ 1.【薪酬獎勵】極具競爭力的薪酬、年終及績效獎金，績優仲介業務同仁更享長期發展獎金，以及海外獎勵旅遊。 2.【長期投資】員工紅利分配、員工持股信託補助，成為企業發展的重要夥伴。 3.【生育補助】第一胎$3,000，第二胎(含)以上每胎補助$120,000及子女托育補助。 4.【買房優惠】提供夥伴與夥伴家人買賣房地產服務費優惠，成就自己的家業夢想。 5.【社團活動】每年舉辦多項運動賽事，籃球、羽球及慢壘等，多元社團豐富生活。  6.【彈性出勤】總公司部分幕僚單位實施7:30~10:00之間彈性打卡，不必擔心上班要急著趕車。  ※職場學習不間斷※ 1.【在職進修補助】外訓補助、考取不動產經紀人證照補助與證照加給獎金。 2.【完整培訓計畫】企業內部專業講師與師徒制雙軌並行，打造全方位人才。 3.【晉升無雙黃線】升遷制度公平透明，不論資歷，只論實力。 4.【多元學習】語言、金融理財及管理技能等課程，吸收各領域新知，成為多工的能者。  ※彈性福利自由配※ 房仲業界首創彈性福利，依照自己的需求使用「信福幣」，每年變相加薪1~1.5萬！ 1.【家庭照顧】夥伴家人的自費疫苗、健檢一手包辦。 2.【學習成長】線上/線下課程、各項書籍，學習歷程無憂慮。 3.【健康維護】從健身房、運動中心到瑜珈課，還有防疫用品補助金一起抗「疫」。 4.【環境保護】電動機車節能減碳，改變環境從代步工具做起！\", \"company_intro\": \"信義企業集團秉持「以人為本」的信義精神，以「堅持企業社會責任，成就世界級服務業」為願景目標，以信義房屋為起點，採取不動產為主要經營範疇的垂直化經營策略，發展出台灣核心事業群、台灣關係事業群、海外仲介事業群、開發事業群、觀光旅遊事業群以及文化公益事業群六大事業群為發展基礎，建構滿足住與生活的需求！  1.台灣核心事業群：信義房屋、信義代銷、信義鑑定 2.台灣關係事業群： [{'source': 'recommendation'}]\n",
            "* [SIM=0.404956] {\"job_no\": \"8ebty\", \"job_company\": \"宏碁股份有限公司\", \"job_company_link\": \"https://www.104.com.tw/company/9kgoqw8?jobsource=index_job_r\", \"job_name\": \"Data Analyst 全職\", \"job_salary\": \"（經常性薪資達 4 萬元或以上）待遇面議\", \"job_description\": \"1. Managing multiple data sources for sales, user behavior, and digital marketing. 2. Developing and maintaining data workflows to ensure data quality.  3. Creating best-practice reports through analysis and visualization. 4. Developing diagnostic and predictive models to assist with business decisions. 5. Studying data and researching business issues to uncover insights.\", \"job_location\": \"新北市汐止區新台五路一段88號\", \"job_requirements\": \"Background: A bachelor’s degree in computer science, Information Management, Statistics, or a comparable discipline is required  Personality: Self-motivated, passionate about the use of data to drive business development, enjoy being challenged by the best and create world-shaping impact.  Requirements: 1. Expertise in database technology and the ability to write complex SQL queries to retrieve the required data. 2. Proficient in Python and analytical modules such as pandas and matplotlib and experienced in developing analytical tools. 3. Familiar with basic statistics and machine learning concepts.  Work experience: 1. 1+ year of experience in SQL and Python development. 2. Experience in dashboard development. 3. Strong experience in using Excel.\", \"job_welfare\": \"★ 本公司聘任之正職人員得享有以下福利，約聘人員之福利則依公司其他相關規定辦理。  √ 年終獎金、中秋與端午禮金，並視公司營運狀況及個人績效發放目標獎金  √ 員工分紅   √ 人性化管理及健全升遷發展制度   【貼心的差勤管理制度】 √ 彈性自主管理的上下班時間 √ 優於勞基法的休假制度 - 通過試用考核即享有7天年假 - 可預支次年度特休假 - 每年享有15天全薪病假 - 每年享有2天有薪志工假 - 當年度特休休完，另可申請４天有薪樂活假  【正向紓壓的工作環境】 √ 活潑又能激發創意的辦公空間 √ 不同風格主題的會議空間 √ 多元的休閒空間 -員工健身房：提供豐富多元健身器材及團體課程，工作之餘也能放鬆身心、兼顧健康 -員工休閒區：提供桌球、撞球、韻律教室……等設施 -咖啡交誼廳：自助式咖啡茶飲交誼空間 -圖書空間：提供實體閱覽室及線上圖書館 -藝文走廊：每月規劃展出名家畫作、攝影作品等藝文展品。 -頂樓籃球場：工作之餘的放鬆運動空間 √ 應景的節慶佈置  【家庭照顧與支持】  √ 三節禮金及生日禮金  √ 婚喪喜慶補助：提供結婚、生育、住院、喪葬補助  √ 全家人的保險保障：提供員工免費與眷屬優惠自費的團體保險、保險公司駐點人員專業服務  √ 子女教育獎學金  √ 多樣化的特約廠商 √Acer Baby-員工育兒協助 [{'source': 'recommendation'}]\n"
          ]
        }
      ]
    },
    {
      "cell_type": "markdown",
      "source": [
        "# **自Google Drive load vectorstore進來**\n",
        "\n"
      ],
      "metadata": {
        "id": "i-whYMZwmxF2"
      }
    },
    {
      "cell_type": "code",
      "source": [
        "from google.colab import drive\n",
        "\n",
        "# 掛載 Google Drive\n",
        "drive.mount('/content/drive')"
      ],
      "metadata": {
        "id": "nb-9BpsNCI3T",
        "colab": {
          "base_uri": "https://localhost:8080/"
        },
        "outputId": "3690b186-57ce-43d6-a12d-11941ad6e70d"
      },
      "execution_count": null,
      "outputs": [
        {
          "output_type": "stream",
          "name": "stdout",
          "text": [
            "Drive already mounted at /content/drive; to attempt to forcibly remount, call drive.mount(\"/content/drive\", force_remount=True).\n"
          ]
        }
      ]
    },
    {
      "cell_type": "code",
      "source": [
        "from dotenv import load_dotenv\n",
        "import os\n",
        "\n",
        "# Load the .env file\n",
        "load_dotenv()\n",
        "\n",
        "os.environ[\"OPENAI_API_KEY\"] = os.getenv('OPENAI_API_KEY')"
      ],
      "metadata": {
        "id": "-vJt_zblDBcO"
      },
      "execution_count": null,
      "outputs": []
    },
    {
      "cell_type": "code",
      "source": [
        "from langchain_openai import OpenAIEmbeddings\n",
        "\n",
        "embeddings = OpenAIEmbeddings(model=\"text-embedding-ada-002\")"
      ],
      "metadata": {
        "id": "4WMOx5B31bZx"
      },
      "execution_count": null,
      "outputs": []
    },
    {
      "cell_type": "code",
      "source": [
        "persist_directory = \"/content/drive/MyDrive/vector_store\""
      ],
      "metadata": {
        "id": "uz3sss2ayqNO"
      },
      "execution_count": null,
      "outputs": []
    },
    {
      "cell_type": "code",
      "source": [
        "from langchain_chroma import Chroma\n",
        "loaded_db= Chroma(collection_name=\"vector_store_jobs_document_short\",persist_directory=persist_directory, embedding_function=embeddings)"
      ],
      "metadata": {
        "id": "NtUtFPbs1Tas"
      },
      "execution_count": null,
      "outputs": []
    },
    {
      "cell_type": "code",
      "source": [
        "loaded_db.get(include=[\"embeddings\", \"documents\"])"
      ],
      "metadata": {
        "colab": {
          "base_uri": "https://localhost:8080/"
        },
        "id": "_5KZXb8B1i3l",
        "outputId": "0f1278ab-8b8a-46c4-bc80-7271fce0affa",
        "collapsed": true
      },
      "execution_count": null,
      "outputs": [
        {
          "output_type": "execute_result",
          "data": {
            "text/plain": [
              "{'ids': ['8i1vf', '8anmk', '8e5se', '8iejf', '714cp', '8fhgl', '8ebty'],\n",
              " 'embeddings': array([[-2.59150099e-02, -1.26332296e-02, -3.32551170e-03, ...,\n",
              "         -8.82974919e-03, -8.45142733e-03, -1.81729347e-02],\n",
              "        [-3.35998759e-02,  6.34850236e-03,  1.66794602e-02, ...,\n",
              "          1.52939674e-03, -1.84866246e-02,  1.16963708e-03],\n",
              "        [-2.28178240e-02, -4.05800380e-02, -1.08056853e-03, ...,\n",
              "         -1.00030741e-02, -4.48786579e-02, -9.66513250e-03],\n",
              "        ...,\n",
              "        [-1.31101422e-02, -6.67547015e-03,  1.02941366e-02, ...,\n",
              "         -2.14712024e-02, -3.06884348e-02,  1.69562292e-03],\n",
              "        [-3.00195832e-02, -7.44784847e-05,  2.05269046e-02, ...,\n",
              "          1.04460039e-03, -2.38398761e-02, -9.72762937e-04],\n",
              "        [-3.25273499e-02, -4.71238280e-03,  1.09762801e-02, ...,\n",
              "         -1.58417728e-02, -3.25273499e-02, -2.35789269e-03]]),\n",
              " 'documents': ['{\"job_no\": \"8i1vf\", \"job_company\": \"台灣英特艾倫人力資源有限公司\", \"job_company_link\": \"https://www.104.com.tw/company/1a2x6bj0ov?jobsource=index_job_r\", \"job_name\": \"【純遠端】新創遊戲公司誠徵- 中高級數值 全職\", \"job_salary\": \"月薪50,000~150,000元\", \"job_description\": \"1、負責遊戲的數值體系設計，公式和流程設計； 2、建立遊戲資料結構、數學模型、數值框架及數值操作流程，並不斷完善； 3、能夠運用常用的數值設計方法與實現工具，進行有效的數值模擬和實踐； 4、負責遊戲數學模型設計；\", \"job_location\": \"台北市信義區\", \"job_requirements\": \"1、大學以上學歷，數學相關專業，精通數理統計、機率模型(有精算相關知識優先)； 2、有遊戲數值策劃相關工作經驗優先； 3、具備優秀的邏輯思維能力和資料分析能力，具備優秀的理解能力和溝通能力，善於口頭和文案等表達； 4、有數學建模能力並能針對性模擬(R、Ptyhon、VBA等皆可) 5、會程式設計語言 (Python、C++、Golang、Perl、PHP、Java、R)優先。\", \"job_welfare\": \"本公司依照各國勞基法令, 並給予更為優渥的福利措施 1. 每年生日假 2. 每年生日獎金 3. 抽成獎金 4. 年終獎金 5. 每年國內外旅遊 6. 專業證照培訓 7. 彈性工作時間 8. 台灣區員工依法提供勞保、健保及勞退 9. 特休假給予\", \"company_intro\": \"協助客戶制定招聘策略、招聘優秀人才、培訓和發展員工、管理薪酬福利等方面\", \"company_product\": \"協助客戶制定招聘策略、招聘優秀人才、培訓和發展員工、管理薪酬福利等方面\", \"company_location\": \"協助客戶制定招聘策略、招聘優秀人才、培訓和發展員工、管理薪酬福利等方面\"}',\n",
              "  '{\"job_no\": \"8anmk\", \"job_company\": \"亞虎科技股份有限公司\", \"job_company_link\": \"https://www.104.com.tw/company/1a2x6bkx7r?jobsource=index_job_r\", \"job_name\": \"數據分析師/資料科學家 全職\", \"job_salary\": \"月薪80,000元以上\", \"job_description\": \"1.彙整、分析與定期產出各遊戲類型的監測資料或報告 。 2.數據預處理、特徵工程、模型選擇/融合、模型訓練/測試、數據問題分析及解決、模型評估的程式開發。 3.機器學習、深度學習或其他相關演算法開發 4.數據與機器學習模型可視化處理 5.修改、維護上市的資料分析系統產品 6.依專案需求，參與系統架構流程規劃 7. 協助研發資料分析的新技術與新工具\", \"job_location\": \"台北市松山區南京東路三段248號10樓\", \"job_requirements\": \"1.具備大數據處理之相關技術並熟悉統計原理與實際應用 2.孰悉使用Python程式語言 3.孰悉資料庫及SQL語言應用（Database/Coding） 4.資料視覺化呈現能力如孰悉Tableau 或 Power BI等尤佳 5.具備工作熱忱與團隊合作精神,善於溝通與解決問題 6.資料科學家須具備機器學習與人工智慧（Machine Learning and AI）建模之能力與實作經驗\", \"job_welfare\": \"【 自主彈性的上班時間】 ￭沒有主管沒下班你就不能下班的傳統文化 只要任務完成，就打卡下班吧  【最有錢途的薪資結構】 ￭優渥工資、端午節獎金、中秋節獎金、年終獎金 ￭保障年薪最低14個月  【最有保障的勞基福利】 ￭勞保、健保及團保，依照實際薪資級距投保 ￭完善的退休金制度，樂活退休不用愁  【最享生活的休假制度】 ￭週休二日開心放 ￭有薪特休假爽爽放  ￭每月生理假窩心放  【最狂的夢幻福利】 ￭團體保險，彌補勞健保險之不足、提供完善醫療照顧，工作無慮。 ￭我們重視每位員工的健康，提供每年一次健康檢查補助。 ￭享舒適上班環境，每月再享下午茶 ￭免費零食櫃 、咖啡飲料隨你喝，把你餵飽飽 ￭不定期員工緊餐，一起吃遍各大餐廳 ￭歲末年終共享尾牙春酒  【交通便利】 ￭位於捷運南京復興站5號出口，到站即到公司 ￭周邊商圈用餐方便\", \"company_intro\": \"因地制宜，提供遊戲策略佈局 成效分析，開發更具高黏著度產品 投其所好，精準推薦玩家遊戲提高客戶獲利 開發預測，搶先鎖定目標市場贏得商機 風險控管，監控潛在風險保障利益 24小時待命，即時回報保障客戶營運實況 多國支援，持續提供各國在地語言及貨幣 串流平台，支援手機、平板及PC裝置的跨平台遊戲\", \"company_product\": \"因地制宜，提供遊戲策略佈局 成效分析，開發更具高黏著度產品 投其所好，精準推薦玩家遊戲提高客戶獲利 開發預測，搶先鎖定目標市場贏得商機 風險控管，監控潛在風險保障利益 24小時待命，即時回報保障客戶營運實況 多國支援，持續提供各國在地語言及貨幣 串流平台，支援手機、平板及PC裝置的跨平台遊戲\", \"company_location\": \"因地制宜，提供遊戲策略佈局 成效分析，開發更具高黏著度產品 投其所好，精準推薦玩家遊戲提高客戶獲利 開發預測，搶先鎖定目標市場贏得商機 風險控管，監控潛在風險保障利益 24小時待命，即時回報保障客戶營運實況 多國支援，持續提供各國在地語言及貨幣 串流平台，支援手機、平板及PC裝置的跨平台遊戲\"}',\n",
              "  '{\"job_no\": \"8e5se\", \"job_company\": \"信義房屋股份有限公司\", \"job_company_link\": \"https://www.104.com.tw/company/a9pjy3k?jobsource=index_job_r\", \"job_name\": \"【PropTech數位人才招募】AI研究員/數據科學家│AI數據應用發展 全職\", \"job_salary\": \"（經常性薪資達 4 萬元或以上）待遇面議\", \"job_description\": \"【關於PropTech數位人才招募計劃】 信義企業集團的各項產品與計畫正融入大數據、機器學習與人工智慧等應用，我們的數位團隊也持續致力於「房地產科技創新」與「數位居住生活」兩大面向，以創新智能工具，為使用者提供超乎想像的服務體驗。 我們希望讓居住在這片土地上的人們，在「不動產交易買賣」與「居住生活日常」有更好的保障與體驗，也期待你與我們一起，加速這個改變。 這裡匯聚了40年的集團產業資源，以及多元化的人才；接下來，想邀請你加入，與我們一起創造超乎想像的體驗，成就即將到來的未來！  【職務說明】#團隊擴編 一起成為加速AI應用的推動者 1. 研究最新AI演算法與應用，利用AI技術支持概念實現 2. 協助建立並優化AI模型，提升預測精確度 3. 與跨部門團隊合作，將AI技術整合到實際業務場景中\", \"job_location\": \"台北市信義區信義路五段100號(110)\", \"job_requirements\": \"1. 3年以上人工智慧/機器學習/深度學習，並有實際專案應用經驗 2. 對數據分析與演算法解決商業問題有高度興趣 3. 熟悉AI框架如TensorFlow, PyTorch等，熟悉程式語言如Python, SQL 4. 具備獨立研究與快速學習新技術的能力 5. 關注AI領域最新研究動向，並能將其應用到實際場景中 6. 邏輯思考能力強，且具良好溝通能力 7. 有耐心，思考清晰有條理、能換位溝通最重要  加分條件： 有實戰經驗：對商業議題能釐清並評估需求、定義假說並實驗設計、驗證優化後完成觀察指標設計\", \"job_welfare\": \"對信義房屋而言，人才不是財產，而是夥伴。我們深知人才影響企業的榮枯，要提供好的服務體驗，首要，就要善待人才。  ※身心健康有保障※ 1.【員工健檢】優於法令的方案，免費新人健檢，每2年享有一次免費健檢，滿40歲夥伴每年皆享有健檢。 2.【健康管理師】公司聘請專屬健康管理師為夥伴的生理、心理健康把關。 3.【視障按摩師】公司提供專業視障按摩師服務，紓解身心壓力，善盡社會責任。 4.【同仁協助方案(EAP)】外部專業團隊諮詢服務，守護同仁全方位身心平衡。 5.【給薪志工假】每年一天給薪志工假，與夥伴一同手心向下回饋社會。  ※創造品質生活※ 1.【薪酬獎勵】極具競爭力的薪酬、年終及績效獎金，績優仲介業務同仁更享長期發展獎金，以及海外獎勵旅遊。 2.【長期投資】員工紅利分配、員工持股信託補助，成為企業發展的重要夥伴。 3.【生育補助】第一胎$3,000，第二胎(含)以上每胎補助$120,000及子女托育補助。 4.【買房優惠】提供夥伴與夥伴家人買賣房地產服務費優惠，成就自己的家業夢想。 5.【社團活動】每年舉辦多項運動賽事，籃球、羽球及慢壘等，多元社團豐富生活。  6.【彈性出勤】總公司部分幕僚單位實施7:30~10:00之間彈性打卡，不必擔心上班要急著趕車。  ※職場學習不間斷※ 1.【在職進修補助】外訓補助、考取不動產經紀人證照補助與證照加給獎金。 2.【完整培訓計畫】企業內部專業講師與師徒制雙軌並行，打造全方位人才。 3.【晉升無雙黃線】升遷制度公平透明，不論資歷，只論實力。 4.【多元學習】語言、金融理財及管理技能等課程，吸收各領域新知，成為多工的能者。  ※彈性福利自由配※ 房仲業界首創彈性福利，依照自己的需求使用「信福幣」，每年變相加薪1~1.5萬！ 1.【家庭照顧】夥伴家人的自費疫苗、健檢一手包辦。 2.【學習成長】線上/線下課程、各項書籍，學習歷程無憂慮。 3.【健康維護】從健身房、運動中心到瑜珈課，還有防疫用品補助金一起抗「疫」。 4.【環境保護】電動機車節能減碳，改變環境從代步工具做起！\", \"company_intro\": \"信義企業集團秉持「以人為本」的信義精神，以「堅持企業社會責任，成就世界級服務業」為願景目標，以信義房屋為起點，採取不動產為主要經營範疇的垂直化經營策略，發展出台灣核心事業群、台灣關係事業群、海外仲介事業群、開發事業群、觀光旅遊事業群以及文化公益事業群六大事業群為發展基礎，建構滿足住與生活的需求！  1.台灣核心事業群：信義房屋、信義代銷、信義鑑定 2.台灣關係事業群：',\n",
              "  '{\"job_no\": \"8iejf\", \"job_company\": \"騰雲科技服務股份有限公司\", \"job_company_link\": \"https://www.104.com.tw/company/1a2x6bjoni?jobsource=index_job_r\", \"job_name\": \"數據分析顧問(Data Analyst Consultant)(擴編招募中) 全職\", \"job_salary\": \"（經常性薪資達 4 萬元或以上）待遇面議\", \"job_description\": \"✅ 公司簡介  1. AI軟體商騰雲科技(股票代號6870) 是台灣實體場域業者數位轉型解決方案龍頭，其雲端化AI方案結合數據、算法、算力等軟體研發核心及軟硬整合技術，提供多元化解決方案，建構跨國OMO解決方案生態，鎖定整合百貨商場與零售通路客流、商流、金流一站式解決方案。 2. 我們經常接觸新興資訊科技、AI人工智慧、數據分析、資料視覺化、軟體開發及整合等議題，服務型態則是陪伴客戶共同構建解決方案、發掘數據洞見與價值，並提供專業的諮詢建議。  ✅ 工作簡介 1. 協助客戶定義其資料分析、預測等資料應用場景，執行階段包含需求分析、規劃、提案、執行與交付。 2. 設計企業藍圖的資料視覺化報表與儀錶板 3. 規劃數據產品的資料字典(Data Dictionary)與資料目錄 (Data Catalog)  ✅必要條件 1. 對數據分析、資料科學有熱誠，並願意從事顧問服務  2. 具有數據分析工具經驗  3. 有社交能力，願意跟同事、客戶溝通需求，注重團隊合作且不排斥出差    ✅ 加分條件 1. 熟悉資料處理語言(如SQL, Python)，能夠善用該語言相關套件進行資料清洗、轉換。 2. 熟悉任一關聯式資料庫(包括不限於SQL Server)與開發預存程序(Stored Procedure)。  *薪資待遇 可依學經歷相關經驗另談 *面試演示專案文件、程式碼、作品集Demo可增加錄取率 *面試含顧問基礎邏輯測試\", \"job_location\": \"新北市汐止區新台五路一段99號11樓之11\", \"job_welfare\": \"《我們強化-福利體驗》 ❚ 生日禮金、中秋禮金、端午禮金、開工紅包 ❚ 部門聚餐補助、旅遊補助津貼、結婚禮金、生育禮金 ❚ 住院慰問金、喪葬奠儀 ❚ 福委會加碼發放--生日禮金、三節禮卷、五一勞動節禮卷 ❚ 年度展望餐會、春酒、聖誕活動餐會/抽獎/員工小禮 ❚ 年終績效獎金 (依公司營運狀況及員工績效表現而定) ❚ 每年調薪評估 (依公司營運狀況及員工績效表現而定)  《我們關心-通勤安全》 ❚ 上下班時間:9:00-18:00，午休1小時 (彈性上下班：前後半小時)  《我們提供-友善工作環境》  ❚明亮舒適的辦公區  ❚茶水間提供現煮香醇咖啡  ❚餅乾小點心提供  《我們注重-身心平衡健康照顧》  ❚員工諮詢關懷協助  ❚醫護臨場健康服務 ❚員工健檢補助(依勞工健康保護規則)、健檢公假  《我們在乎-職涯發展》 ❚ 新進訓練、職安觀念、性平宣導、不法侵害課程 ❚ 衛教宣導及免費講座資源提供: 職能進化/工作家庭平衡/職場療癒講座 ❚ CEO分享交流會\", \"company_intro\": \"《Turn Cloud-騰雲科技 》  提供一條龍開店營運技術服務 ，降低門店的開店門檻，減少營運成本。  包含： ❚ 行動智慧收付裝置 ❚ 會員活動應用 ❚ 整合支付工具 ❚ 搭建行銷平台  更多影音資訊-騰雲科技「科技創造智慧生活」 https://www.youtube.com/watch?v=yBFnskhvLsI https://www.youtube.com/watch?v=tRDlHJQfmvo\", \"company_product\": \"《Turn Cloud-騰雲科技 》  提供一條龍開店營運技術服務 ，降低門店的開店門檻，減少營運成本。  包含： ❚ 行動智慧收付裝置 ❚ 會員活動應用 ❚ 整合支付工具 ❚ 搭建行銷平台  更多影音資訊-騰雲科技「科技創造智慧生活」 https://www.youtube.com/watch?v=yBFnskhvLsI https://www.youtube.com/watch?v=tRDlHJQfmvo\", \"company_location\": \"《Turn Cloud-騰雲科技 》  提供一條龍開店營運技術服務 ，降低門店的開店門檻，減少營運成本。  包含： ❚ 行動智慧收付裝置 ❚ 會員活動應用 ❚ 整合支付工具 ❚ 搭建行銷平台  更多影音資訊-騰雲科技「科技創造智慧生活」 https://www.youtube.com/watch?v=yBFnskhvL',\n",
              "  '{\"job_no\": \"714cp\", \"job_company\": \"英屬維京群島商瑞嘉耐思科技有限公司台灣分公司\", \"job_company_link\": \"https://www.104.com.tw/company/1a2x6bl8e6?jobsource=index_job_r\", \"job_name\": \"Data Engineer / 數據工程師 全職\", \"job_salary\": \"月薪62,162~154,348元\", \"job_description\": \"工作內容:  •  Designing and maintaining cloud-based data warehouse, including data collection, modeling and storage. •  Maintaining batch and streaming pipelines, ensuring data quality. •  Developing data APIs based on product requirements and deploying to Kubernetes using Gitlab CI/CD. •  Understanding user needs and handling data retrieval and support dashboard tasks. •  Continuously learning and optimizing data architectures and introducing new technologies.\", \"job_location\": \"台北市內湖區瑞湖街58號3樓\", \"job_requirements\": \"【MUST HAVE】 •  B.S. in Computer Science or a related technical field. •  Minimum 1 year of programming or scripting experience (e.g. Python, C#.) •  Experience with data cleaning, visualization, and reporting. •  Good understanding of data mining and data modeling techniques. •  Knowledge of SQL databases and database query languages. •  Good teamwork and communication skills.  【NICE TO HAVE】 •  Experience with cloud platforms (e.g. GCP, AWS, Azure). •  Experience with EDW (e.g. BigQuery, Redshift) •  Experience with Docker, Kubernetes. •  Fluent in English.\", \"job_welfare\": \"✪ 本公司所聘任之正職人員得享有以下福利；工讀生/約聘人員之福利則依公司其它相關規定辦理。  ✪ 具市場競爭力的優渥待遇 + 績效獎金(一年兩次，視年度營運及個人績效而定)。 • 提供具競爭力的薪資及保障年薪14個月。 • 年節獎金。 • 久任獎金10萬起。  ✪ 提供優於勞動法規的休假制度，讓員工都能充足休憩釋放壓力，也有更多時間與家人朋友相處。 • 一年12天特休，爾後每滿一年加1天，上限30天。 • 員工生日當月可享有生日假。 • 每年提供12天全薪病假。  ✪ 提供多項補助津貼，照護員工基本生活需求。 • 結婚禮金1萬起。 • 生育津貼3萬起。 • 生日禮券(金)。 • 住院及喪葬慰問金。  ✪ 提供周全的保險及醫療、健康等服務，關心員工健康狀態。 • 依據法規實行勞保、健保、勞退保險制度。 • 提供高額團體保險制度，以提高員工意外醫療保障。 • 提供員工年度定期健康檢查。(眷屬自付健檢費，可享有與員工同等的健檢項目) • 健康整脊及按摩服務。  ✪ 規劃多樣休閒活動，讓員工在參與活動之餘，更能貼近及認知公司文化。 • 各類健身活動(拳擊有氧、拉丁有氧、健身活動及球類運動)。 •\\\\t多元化的社團活動(羽球社、籃球社、排球社、電影社、瑜珈社)。 • 定期舉辦慶生會(外燴或包場電影欣賞)。 • 每季部門聚餐。 • 年度國外旅遊。(已旅遊景點：杜拜、澳洲、法國、荷蘭、比利時、日本、沖繩、泰國、韓國、香港、峇里島、持續環遊世界中…)  ✪ 提供一個充滿活力和人性化的美式工作環境，讓員工在工',\n",
              "  '{\"job_no\": \"8fhgl\", \"job_company\": \"烽泰科技有限公司\", \"job_company_link\": \"https://www.104.com.tw/company/1a2x6blafo?jobsource=index_job_r\", \"job_name\": \"資料科學家 Data Scientist 全職\", \"job_salary\": \"（經常性薪資達 4 萬元或以上）待遇面議\", \"job_description\": \"丨此職務另有KPI獎金丨  【您需要做什麼？】 1.\\\\t設計與建立機器學習及深度學習模型，包括數據清洗、特徵工程、模型建置與參數調優 2.\\\\t應用數據挖掘、機器學習、深度學習、最佳化技術來開發推薦系統與決策支持模型 3.\\\\t設計效能指標並進行模型驗證與優化，確保模型在實際應用中的準確性與效能 4.\\\\t進行模型生命週期管理，持續監控並改進模型預測效果與執行效率 5.\\\\t進行資料分析，製作簡報並定期彙整實驗結果與研究發現，向內外部進行有效簡報 6.\\\\t其他主管交辦任務  【您需要具備什麼？】 1.\\\\t擁有資料分析領域的相關經驗，包括數據挖掘、機器學習、深度學習、最佳化、統計模型及自然語言處理（NLP）等 2.\\\\t熟悉Python 及相關函式庫（如 NumPy、Pandas、Scikit-learn、TensorFlow、PyTorch 等） 3.\\\\t擁有模型優化及參數調整的實務經驗 4.\\\\t具備工作熱忱與團隊合作精神，善於溝通與解決問題  【加分條件】 1.\\\\t具財務、金融相關經驗或證照 2.\\\\t英文TOEIC800分以上或相等程度為佳   ★國定假日視情況需排班出勤(可遠端工作，依法給予加班) ★週六補班日不用補班，但國定假日沒有彈性放假制度 ★請攜帶過去曾有的作品集，請於面談階段展示 ★依專業能力與經驗程度核薪\", \"job_location\": \"台北市大同區南京西路捷運中山站六號出口共構大樓\", \"job_welfare\": \"~~正職人員得享有以下福利~~  ◆ 獎金／禮品類 1. 年終獎金 2. 三節獎金／禮品（通過試用期後之正職同仁，享有中秋、端午節各0.5個月薪為禮金，年資未滿一年者依比例計算） 3. 績效獎金 4. 生日禮券 5. 勞動節禮品 6. 開工紅包 7. 推薦獎金  ◆ 休假制度類 1. 週休二日 2. 特休／年假 3. 陪產假／陪產檢假 4. 優於法規的產假 5. 育嬰假 6. 生理假 7. 生日假，沒有什麼比生日更重要！ 8. 有薪聖誕假，跟親朋好友一起過節吧：） 9. 有薪病假（6天／年），在乎同仁的健康，身體不適好好休息 10. 有薪家庭照顧假（3天／年）  ◆ 訓練制度類 1. 新人訓練：協助新人瞭解公司、瞭解工作進入狀況 2. 職能訓練：引導同仁學習工作相關知識與技能，發展職涯學習藍圖 3. 國際金融證照考取補助  ◆ 補助類 1. 結婚禮金 2. 生育津貼 3. 教育訓練補助 4. 育兒津貼（未滿六歲，每半年補助一次） 5. 社團補助 6. 依職務需求，另有輪班津貼 7. 部門聚餐補助 8. 健康檢查補助 9. 員工旅遊補助 10. 施打流感疫苗費用補助（依公告期間，上限1,500元/人）  ◆  休閒及娛樂  1. 聖誕Party活動 2. 年度員工旅遊 3. 其他不定期各項福利活動  ◆ 工作環境／文化 1. 扁平化管理，年輕有活力的工作團隊 2. 整潔舒適的辦公環境及好相處的主管及同事 3. 便利的交通設施，離MRT中山站步行不到5分鐘 4. 我們互相尊重、講求效率與團隊合作 5. 寬敞無隔間的辦公環境，隨時與夥伴對話交流  ◆ 幸福職場 1. 不定期舉辦團康活動或運動類競賽 2. 自由取用的咖啡機、茶包（使用星巴克咖啡豆、天仁茗茶） 3. 每月歡樂慶生會及每月下午茶 4. 免費零食飲料供應 5. 定期舉辦健康檢查，關心您的身體 6. 專業醫生／護理師駐點健康服務 7. Happy社團：桌球社、羽球社、籃球社、咖啡社、電影欣賞社等 8. 彈性上、下班時間制度（輪班部門不適用）   ★★★福利持續增加／修訂中，有更好的福利，歡迎加入提出★★★\", \"company_intro\": \"數據分析、數據抓取、管理模型建構、軟體設計開發、自動化應用、程式模組設計開發、自動化監控、警示等相關業務。\", \"company_product\": \"數據分析、數據抓取、管理模型建構、軟體設計開發、自動化應用、程式模組設計開發、自動化監控、警示等相關業務。\", \"company_location\": \"數據分析、數據抓取、管理模型建構、軟體設計開發、自動化應用、程式模組設計開發、自動化監控、警示等相關業務。\"}',\n",
              "  '{\"job_no\": \"8ebty\", \"job_company\": \"宏碁股份有限公司\", \"job_company_link\": \"https://www.104.com.tw/company/9kgoqw8?jobsource=index_job_r\", \"job_name\": \"Data Analyst 全職\", \"job_salary\": \"（經常性薪資達 4 萬元或以上）待遇面議\", \"job_description\": \"1. Managing multiple data sources for sales, user behavior, and digital marketing. 2. Developing and maintaining data workflows to ensure data quality.  3. Creating best-practice reports through analysis and visualization. 4. Developing diagnostic and predictive models to assist with business decisions. 5. Studying data and researching business issues to uncover insights.\", \"job_location\": \"新北市汐止區新台五路一段88號\", \"job_requirements\": \"Background: A bachelor’s degree in computer science, Information Management, Statistics, or a comparable discipline is required  Personality: Self-motivated, passionate about the use of data to drive business development, enjoy being challenged by the best and create world-shaping impact.  Requirements: 1. Expertise in database technology and the ability to write complex SQL queries to retrieve the required data. 2. Proficient in Python and analytical modules such as pandas and matplotlib and experienced in developing analytical tools. 3. Familiar with basic statistics and machine learning concepts.  Work experience: 1. 1+ year of experience in SQL and Python development. 2. Experience in dashboard development. 3. Strong experience in using Excel.\", \"job_welfare\": \"★ 本公司聘任之正職人員得享有以下福利，約聘人員之福利則依公司其他相關規定辦理。  √ 年終獎金、中秋與端午禮金，並視公司營運狀況及個人績效發放目標獎金  √ 員工分紅   √ 人性化管理及健全升遷發展制度   【貼心的差勤管理制度】 √ 彈性自主管理的上下班時間 √ 優於勞基法的休假制度 - 通過試用考核即享有7天年假 - 可預支次年度特休假 - 每年享有15天全薪病假 - 每年享有2天有薪志工假 - 當年度特休休完，另可申請４天有薪樂活假  【正向紓壓的工作環境】 √ 活潑又能激發創意的辦公空間 √ 不同風格主題的會議空間 √ 多元的休閒空間 -員工健身房：提供豐富多元健身器材及團體課程，工作之餘也能放鬆身心、兼顧健康 -員工休閒區：提供桌球、撞球、韻律教室……等設施 -咖啡交誼廳：自助式咖啡茶飲交誼空間 -圖書空間：提供實體閱覽室及線上圖書館 -藝文走廊：每月規劃展出名家畫作、攝影作品等藝文展品。 -頂樓籃球場：工作之餘的放鬆運動空間 √ 應景的節慶佈置  【家庭照顧與支持】  √ 三節禮金及生日禮金  √ 婚喪喜慶補助：提供結婚、生育、住院、喪葬補助  √ 全家人的保險保障：提供員工免費與眷屬優惠自費的團體保險、保險公司駐點人員專業服務  √ 子女教育獎學金  √ 多樣化的特約廠商 √Acer Baby-員工育兒協助'],\n",
              " 'uris': None,\n",
              " 'data': None,\n",
              " 'metadatas': None,\n",
              " 'included': [<IncludeEnum.embeddings: 'embeddings'>,\n",
              "  <IncludeEnum.documents: 'documents'>]}"
            ]
          },
          "metadata": {},
          "execution_count": 12
        }
      ]
    },
    {
      "cell_type": "code",
      "source": [
        "#刪除整個vectorstore\n",
        "#vector_store._client.delete_collection(vector_store._collection.name)"
      ],
      "metadata": {
        "id": "_GFw4YMQbNqs"
      },
      "execution_count": null,
      "outputs": []
    },
    {
      "cell_type": "code",
      "source": [
        "results = loaded_db.similarity_search_with_relevance_scores(\n",
        "    \"屬於科技業的職缺?\", k=2 #, filter={\"source\": \"news\"}\n",
        ")\n",
        "for res, score in results:\n",
        "    print(f\"* [SIM={score:3f}] {res.page_content} [{res.metadata}]\")"
      ],
      "metadata": {
        "colab": {
          "base_uri": "https://localhost:8080/"
        },
        "id": "WjpYCWlABw9L",
        "outputId": "a0bdf109-1096-41c1-d2be-f9e27d79692b"
      },
      "execution_count": 18,
      "outputs": [
        {
          "output_type": "stream",
          "name": "stdout",
          "text": [
            "* [SIM=0.753500] {\"job_no\": \"8e5se\", \"job_company\": \"信義房屋股份有限公司\", \"job_company_link\": \"https://www.104.com.tw/company/a9pjy3k?jobsource=index_job_r\", \"job_name\": \"【PropTech數位人才招募】AI研究員/數據科學家│AI數據應用發展 全職\", \"job_salary\": \"（經常性薪資達 4 萬元或以上）待遇面議\", \"job_description\": \"【關於PropTech數位人才招募計劃】 信義企業集團的各項產品與計畫正融入大數據、機器學習與人工智慧等應用，我們的數位團隊也持續致力於「房地產科技創新」與「數位居住生活」兩大面向，以創新智能工具，為使用者提供超乎想像的服務體驗。 我們希望讓居住在這片土地上的人們，在「不動產交易買賣」與「居住生活日常」有更好的保障與體驗，也期待你與我們一起，加速這個改變。 這裡匯聚了40年的集團產業資源，以及多元化的人才；接下來，想邀請你加入，與我們一起創造超乎想像的體驗，成就即將到來的未來！  【職務說明】#團隊擴編 一起成為加速AI應用的推動者 1. 研究最新AI演算法與應用，利用AI技術支持概念實現 2. 協助建立並優化AI模型，提升預測精確度 3. 與跨部門團隊合作，將AI技術整合到實際業務場景中\", \"job_location\": \"台北市信義區信義路五段100號(110)\", \"job_requirements\": \"1. 3年以上人工智慧/機器學習/深度學習，並有實際專案應用經驗 2. 對數據分析與演算法解決商業問題有高度興趣 3. 熟悉AI框架如TensorFlow, PyTorch等，熟悉程式語言如Python, SQL 4. 具備獨立研究與快速學習新技術的能力 5. 關注AI領域最新研究動向，並能將其應用到實際場景中 6. 邏輯思考能力強，且具良好溝通能力 7. 有耐心，思考清晰有條理、能換位溝通最重要  加分條件： 有實戰經驗：對商業議題能釐清並評估需求、定義假說並實驗設計、驗證優化後完成觀察指標設計\", \"job_welfare\": \"對信義房屋而言，人才不是財產，而是夥伴。我們深知人才影響企業的榮枯，要提供好的服務體驗，首要，就要善待人才。  ※身心健康有保障※ 1.【員工健檢】優於法令的方案，免費新人健檢，每2年享有一次免費健檢，滿40歲夥伴每年皆享有健檢。 2.【健康管理師】公司聘請專屬健康管理師為夥伴的生理、心理健康把關。 3.【視障按摩師】公司提供專業視障按摩師服務，紓解身心壓力，善盡社會責任。 4.【同仁協助方案(EAP)】外部專業團隊諮詢服務，守護同仁全方位身心平衡。 5.【給薪志工假】每年一天給薪志工假，與夥伴一同手心向下回饋社會。  ※創造品質生活※ 1.【薪酬獎勵】極具競爭力的薪酬、年終及績效獎金，績優仲介業務同仁更享長期發展獎金，以及海外獎勵旅遊。 2.【長期投資】員工紅利分配、員工持股信託補助，成為企業發展的重要夥伴。 3.【生育補助】第一胎$3,000，第二胎(含)以上每胎補助$120,000及子女托育補助。 4.【買房優惠】提供夥伴與夥伴家人買賣房地產服務費優惠，成就自己的家業夢想。 5.【社團活動】每年舉辦多項運動賽事，籃球、羽球及慢壘等，多元社團豐富生活。  6.【彈性出勤】總公司部分幕僚單位實施7:30~10:00之間彈性打卡，不必擔心上班要急著趕車。  ※職場學習不間斷※ 1.【在職進修補助】外訓補助、考取不動產經紀人證照補助與證照加給獎金。 2.【完整培訓計畫】企業內部專業講師與師徒制雙軌並行，打造全方位人才。 3.【晉升無雙黃線】升遷制度公平透明，不論資歷，只論實力。 4.【多元學習】語言、金融理財及管理技能等課程，吸收各領域新知，成為多工的能者。  ※彈性福利自由配※ 房仲業界首創彈性福利，依照自己的需求使用「信福幣」，每年變相加薪1~1.5萬！ 1.【家庭照顧】夥伴家人的自費疫苗、健檢一手包辦。 2.【學習成長】線上/線下課程、各項書籍，學習歷程無憂慮。 3.【健康維護】從健身房、運動中心到瑜珈課，還有防疫用品補助金一起抗「疫」。 4.【環境保護】電動機車節能減碳，改變環境從代步工具做起！\", \"company_intro\": \"信義企業集團秉持「以人為本」的信義精神，以「堅持企業社會責任，成就世界級服務業」為願景目標，以信義房屋為起點，採取不動產為主要經營範疇的垂直化經營策略，發展出台灣核心事業群、台灣關係事業群、海外仲介事業群、開發事業群、觀光旅遊事業群以及文化公益事業群六大事業群為發展基礎，建構滿足住與生活的需求！  1.台灣核心事業群：信義房屋、信義代銷、信義鑑定 2.台灣關係事業群： [{'source': 'recommendation'}]\n",
            "* [SIM=0.750976] {\"job_no\": \"8ebty\", \"job_company\": \"宏碁股份有限公司\", \"job_company_link\": \"https://www.104.com.tw/company/9kgoqw8?jobsource=index_job_r\", \"job_name\": \"Data Analyst 全職\", \"job_salary\": \"（經常性薪資達 4 萬元或以上）待遇面議\", \"job_description\": \"1. Managing multiple data sources for sales, user behavior, and digital marketing. 2. Developing and maintaining data workflows to ensure data quality.  3. Creating best-practice reports through analysis and visualization. 4. Developing diagnostic and predictive models to assist with business decisions. 5. Studying data and researching business issues to uncover insights.\", \"job_location\": \"新北市汐止區新台五路一段88號\", \"job_requirements\": \"Background: A bachelor’s degree in computer science, Information Management, Statistics, or a comparable discipline is required  Personality: Self-motivated, passionate about the use of data to drive business development, enjoy being challenged by the best and create world-shaping impact.  Requirements: 1. Expertise in database technology and the ability to write complex SQL queries to retrieve the required data. 2. Proficient in Python and analytical modules such as pandas and matplotlib and experienced in developing analytical tools. 3. Familiar with basic statistics and machine learning concepts.  Work experience: 1. 1+ year of experience in SQL and Python development. 2. Experience in dashboard development. 3. Strong experience in using Excel.\", \"job_welfare\": \"★ 本公司聘任之正職人員得享有以下福利，約聘人員之福利則依公司其他相關規定辦理。  √ 年終獎金、中秋與端午禮金，並視公司營運狀況及個人績效發放目標獎金  √ 員工分紅   √ 人性化管理及健全升遷發展制度   【貼心的差勤管理制度】 √ 彈性自主管理的上下班時間 √ 優於勞基法的休假制度 - 通過試用考核即享有7天年假 - 可預支次年度特休假 - 每年享有15天全薪病假 - 每年享有2天有薪志工假 - 當年度特休休完，另可申請４天有薪樂活假  【正向紓壓的工作環境】 √ 活潑又能激發創意的辦公空間 √ 不同風格主題的會議空間 √ 多元的休閒空間 -員工健身房：提供豐富多元健身器材及團體課程，工作之餘也能放鬆身心、兼顧健康 -員工休閒區：提供桌球、撞球、韻律教室……等設施 -咖啡交誼廳：自助式咖啡茶飲交誼空間 -圖書空間：提供實體閱覽室及線上圖書館 -藝文走廊：每月規劃展出名家畫作、攝影作品等藝文展品。 -頂樓籃球場：工作之餘的放鬆運動空間 √ 應景的節慶佈置  【家庭照顧與支持】  √ 三節禮金及生日禮金  √ 婚喪喜慶補助：提供結婚、生育、住院、喪葬補助  √ 全家人的保險保障：提供員工免費與眷屬優惠自費的團體保險、保險公司駐點人員專業服務  √ 子女教育獎學金  √ 多樣化的特約廠商 √Acer Baby-員工育兒協助 [{'source': 'recommendation'}]\n"
          ]
        }
      ]
    },
    {
      "cell_type": "markdown",
      "source": [
        "# **建立QA Assistant**"
      ],
      "metadata": {
        "id": "7uELJ9Bzo5Gu"
      }
    },
    {
      "cell_type": "code",
      "source": [
        "retriever = loaded_db.as_retriever(search_type=\"similarity\", search_kwargs={\"k\": 2})"
      ],
      "metadata": {
        "id": "JlvLPME4o4Fq"
      },
      "execution_count": 21,
      "outputs": []
    },
    {
      "cell_type": "code",
      "source": [
        "retrieved_docs = retriever.invoke(\"房地產相關職缺\")\n",
        "\n"
      ],
      "metadata": {
        "id": "EHu36SMV7bCs"
      },
      "execution_count": 24,
      "outputs": []
    },
    {
      "cell_type": "code",
      "source": [
        "print(retrieved_docs[0].page_content)\n",
        "\n"
      ],
      "metadata": {
        "colab": {
          "base_uri": "https://localhost:8080/"
        },
        "id": "qbpiXY7L7sGe",
        "outputId": "a1120731-5753-4fc5-cd88-893e179a31d4"
      },
      "execution_count": 28,
      "outputs": [
        {
          "output_type": "stream",
          "name": "stdout",
          "text": [
            "{\"job_no\": \"8e5se\", \"job_company\": \"信義房屋股份有限公司\", \"job_company_link\": \"https://www.104.com.tw/company/a9pjy3k?jobsource=index_job_r\", \"job_name\": \"【PropTech數位人才招募】AI研究員/數據科學家│AI數據應用發展 全職\", \"job_salary\": \"（經常性薪資達 4 萬元或以上）待遇面議\", \"job_description\": \"【關於PropTech數位人才招募計劃】 信義企業集團的各項產品與計畫正融入大數據、機器學習與人工智慧等應用，我們的數位團隊也持續致力於「房地產科技創新」與「數位居住生活」兩大面向，以創新智能工具，為使用者提供超乎想像的服務體驗。 我們希望讓居住在這片土地上的人們，在「不動產交易買賣」與「居住生活日常」有更好的保障與體驗，也期待你與我們一起，加速這個改變。 這裡匯聚了40年的集團產業資源，以及多元化的人才；接下來，想邀請你加入，與我們一起創造超乎想像的體驗，成就即將到來的未來！  【職務說明】#團隊擴編 一起成為加速AI應用的推動者 1. 研究最新AI演算法與應用，利用AI技術支持概念實現 2. 協助建立並優化AI模型，提升預測精確度 3. 與跨部門團隊合作，將AI技術整合到實際業務場景中\", \"job_location\": \"台北市信義區信義路五段100號(110)\", \"job_requirements\": \"1. 3年以上人工智慧/機器學習/深度學習，並有實際專案應用經驗 2. 對數據分析與演算法解決商業問題有高度興趣 3. 熟悉AI框架如TensorFlow, PyTorch等，熟悉程式語言如Python, SQL 4. 具備獨立研究與快速學習新技術的能力 5. 關注AI領域最新研究動向，並能將其應用到實際場景中 6. 邏輯思考能力強，且具良好溝通能力 7. 有耐心，思考清晰有條理、能換位溝通最重要  加分條件： 有實戰經驗：對商業議題能釐清並評估需求、定義假說並實驗設計、驗證優化後完成觀察指標設計\", \"job_welfare\": \"對信義房屋而言，人才不是財產，而是夥伴。我們深知人才影響企業的榮枯，要提供好的服務體驗，首要，就要善待人才。  ※身心健康有保障※ 1.【員工健檢】優於法令的方案，免費新人健檢，每2年享有一次免費健檢，滿40歲夥伴每年皆享有健檢。 2.【健康管理師】公司聘請專屬健康管理師為夥伴的生理、心理健康把關。 3.【視障按摩師】公司提供專業視障按摩師服務，紓解身心壓力，善盡社會責任。 4.【同仁協助方案(EAP)】外部專業團隊諮詢服務，守護同仁全方位身心平衡。 5.【給薪志工假】每年一天給薪志工假，與夥伴一同手心向下回饋社會。  ※創造品質生活※ 1.【薪酬獎勵】極具競爭力的薪酬、年終及績效獎金，績優仲介業務同仁更享長期發展獎金，以及海外獎勵旅遊。 2.【長期投資】員工紅利分配、員工持股信託補助，成為企業發展的重要夥伴。 3.【生育補助】第一胎$3,000，第二胎(含)以上每胎補助$120,000及子女托育補助。 4.【買房優惠】提供夥伴與夥伴家人買賣房地產服務費優惠，成就自己的家業夢想。 5.【社團活動】每年舉辦多項運動賽事，籃球、羽球及慢壘等，多元社團豐富生活。  6.【彈性出勤】總公司部分幕僚單位實施7:30~10:00之間彈性打卡，不必擔心上班要急著趕車。  ※職場學習不間斷※ 1.【在職進修補助】外訓補助、考取不動產經紀人證照補助與證照加給獎金。 2.【完整培訓計畫】企業內部專業講師與師徒制雙軌並行，打造全方位人才。 3.【晉升無雙黃線】升遷制度公平透明，不論資歷，只論實力。 4.【多元學習】語言、金融理財及管理技能等課程，吸收各領域新知，成為多工的能者。  ※彈性福利自由配※ 房仲業界首創彈性福利，依照自己的需求使用「信福幣」，每年變相加薪1~1.5萬！ 1.【家庭照顧】夥伴家人的自費疫苗、健檢一手包辦。 2.【學習成長】線上/線下課程、各項書籍，學習歷程無憂慮。 3.【健康維護】從健身房、運動中心到瑜珈課，還有防疫用品補助金一起抗「疫」。 4.【環境保護】電動機車節能減碳，改變環境從代步工具做起！\", \"company_intro\": \"信義企業集團秉持「以人為本」的信義精神，以「堅持企業社會責任，成就世界級服務業」為願景目標，以信義房屋為起點，採取不動產為主要經營範疇的垂直化經營策略，發展出台灣核心事業群、台灣關係事業群、海外仲介事業群、開發事業群、觀光旅遊事業群以及文化公益事業群六大事業群為發展基礎，建構滿足住與生活的需求！  1.台灣核心事業群：信義房屋、信義代銷、信義鑑定 2.台灣關係事業群：\n"
          ]
        }
      ]
    },
    {
      "cell_type": "code",
      "source": [
        "from dotenv import load_dotenv\n",
        "import os\n",
        "\n",
        "# Load the .env file\n",
        "load_dotenv()\n",
        "\n",
        "os.environ[\"OPENAI_API_KEY\"] = os.getenv('OPENAI_API_KEY')"
      ],
      "metadata": {
        "id": "XhUeC9Ct8B2y"
      },
      "execution_count": 29,
      "outputs": []
    },
    {
      "cell_type": "code",
      "source": [
        "from langchain_openai import ChatOpenAI\n",
        "\n",
        "llm = ChatOpenAI(model=\"gpt-4o-mini\")"
      ],
      "metadata": {
        "id": "qJnH1n_58GV-"
      },
      "execution_count": 30,
      "outputs": []
    },
    {
      "cell_type": "code",
      "source": [
        "from langchain import hub\n",
        "\n",
        "prompt = hub.pull(\"rlm/rag-prompt\")"
      ],
      "metadata": {
        "colab": {
          "base_uri": "https://localhost:8080/"
        },
        "id": "TAOY9Xc88gWC",
        "outputId": "572c2173-3263-4486-d365-71664dfc8fda"
      },
      "execution_count": 32,
      "outputs": [
        {
          "output_type": "stream",
          "name": "stderr",
          "text": [
            "/usr/local/lib/python3.10/dist-packages/langsmith/client.py:354: LangSmithMissingAPIKeyWarning: API key must be provided when using hosted LangSmith API\n",
            "  warnings.warn(\n"
          ]
        }
      ]
    },
    {
      "cell_type": "code",
      "source": [
        "from langchain_core.output_parsers import StrOutputParser\n",
        "from langchain_core.runnables import RunnablePassthrough\n",
        "\n",
        "\n",
        "def format_docs(docs):\n",
        "    return \"\\n\\n\".join(doc.page_content for doc in docs)\n",
        "\n",
        "\n",
        "rag_chain = (\n",
        "    {\"context\": retriever | format_docs, \"question\": RunnablePassthrough()}\n",
        "    | prompt\n",
        "    | llm\n",
        "    | StrOutputParser()\n",
        ")"
      ],
      "metadata": {
        "id": "fah0xnp88hUB"
      },
      "execution_count": 33,
      "outputs": []
    },
    {
      "cell_type": "code",
      "source": [
        "for chunk in rag_chain.stream(\"請問與房地產最相關的職缺名稱、公司名稱及職務內容為何，請精簡回答\"):\n",
        "    print(chunk, end=\"\", flush=True)"
      ],
      "metadata": {
        "colab": {
          "base_uri": "https://localhost:8080/"
        },
        "id": "YrRoaLY_8tB8",
        "outputId": "c84c21c7-4e85-445d-a7cd-628c4db451e6"
      },
      "execution_count": 35,
      "outputs": [
        {
          "output_type": "stream",
          "name": "stdout",
          "text": [
            "與房地產最相關的職缺為「AI研究員/數據科學家」，公司名稱為信義房屋股份有限公司。職務內容包括研究AI演算法與應用，協助建立優化AI模型，並將AI技術整合到業務中。薪資待遇為經常性薪資達4萬元或以上，具體待遇面議。"
          ]
        }
      ]
    },
    {
      "cell_type": "markdown",
      "source": [
        "# **利用openai建立embedding**\n"
      ],
      "metadata": {
        "id": "P-HQjpxsFCzR"
      }
    },
    {
      "cell_type": "code",
      "source": [
        "from dotenv import load_dotenv\n",
        "import os\n",
        "import openai\n",
        "\n",
        "# Load the .env file\n",
        "load_dotenv()\n",
        "\n",
        "# Access environment variables\n",
        "openai_api_key = os.getenv('OPENAI_API_KEY')\n",
        "print(openai_api_key)\n",
        "\n",
        "openai.api_key = openai_api_key  # 請替換為您的 OpenAI API 金鑰"
      ],
      "metadata": {
        "id": "R-HEqz7ACPDU"
      },
      "execution_count": null,
      "outputs": []
    },
    {
      "cell_type": "code",
      "source": [
        "import openai\n",
        "openai.api_key = openai_api_key  # 請替換為您的 OpenAI API 金鑰"
      ],
      "metadata": {
        "id": "l1ZPbE4zCQon"
      },
      "execution_count": null,
      "outputs": []
    },
    {
      "cell_type": "code",
      "source": [
        "count= 0\n",
        "with open('job_description_short.txt', 'r') as file:\n",
        "    for line in file:\n",
        "      count+=1\n",
        "      print(line.strip())\n",
        "print(count)"
      ],
      "metadata": {
        "collapsed": true,
        "id": "KL2N6ozyCRVI"
      },
      "execution_count": null,
      "outputs": []
    },
    {
      "cell_type": "code",
      "source": [],
      "metadata": {
        "id": "8te2KRZ2CmJy"
      },
      "execution_count": null,
      "outputs": []
    },
    {
      "cell_type": "code",
      "source": [
        "import json\n",
        "from openai import OpenAI\n",
        "\n",
        "client = OpenAI()\n",
        "\n",
        "def get_openai_embedding(text):\n",
        "    response = client.embeddings.create(input=text, model=\"text-embedding-ada-002\")\n",
        "    return response.data[0].embedding\n",
        "\n",
        "text_embedding = []\n",
        "\n",
        "with open(\"job_description_short.txt\", \"r\") as jobs :\n",
        "  for job in jobs:\n",
        "        if job.strip():  #確保行不為空\n",
        "          job = job.replace(\"\\n\", \" \")\n",
        "          job = job[:5000]\n",
        "          embedding = get_openai_embedding(job)\n",
        "          print(job)\n",
        "          text_embedding.append({\"text\": job, \"embedding\": embedding})"
      ],
      "metadata": {
        "id": "r1TzsETbCUTB"
      },
      "execution_count": null,
      "outputs": []
    },
    {
      "cell_type": "code",
      "source": [
        "# 將結果寫入到新的 JSON 文件中\n",
        "with open('job_text_embedding_short.txt', 'w', encoding=\"utf-8\" ) as output_file:\n",
        "      output_file.write(json.dumps(text_embedding,ensure_ascii=False))"
      ],
      "metadata": {
        "id": "19NcDVO2CWb5"
      },
      "execution_count": null,
      "outputs": []
    },
    {
      "cell_type": "code",
      "source": [
        "with open('job_text_embedding_short.txt', 'r') as file:\n",
        "   jobs = json.load(file)\n",
        "\n",
        "for job in jobs:\n",
        "  print(job['text'])\n",
        "  print(job['embedding'])"
      ],
      "metadata": {
        "id": "kYHacIQHCYcm"
      },
      "execution_count": null,
      "outputs": []
    },
    {
      "cell_type": "code",
      "source": [
        "from chromadb import Client\n",
        "from chromadb.config import Settings\n",
        "\n",
        "# 初始化 Chroma\n",
        "client = Client(Settings(chroma_db_impl=\"duckdb+parquet\", persist_directory=\"/content/drive/MyDrive/chroma_db\"))\n",
        "\n",
        "# 建立 collection\n",
        "collection = client.create_collection(\"my_collection\")\n",
        "\n",
        "# 插入資料到 Chroma Vectorstore\n",
        "for idx, embedding in enumerate(embeddings):\n",
        "    collection.add(\n",
        "        documents=[texts[idx]],  # 原始文本\n",
        "        embeddings=[embedding],  # 向量\n",
        "        metadatas=[{\"id\": idx}]  # 可以加入 metadata（如ID或其他資訊）\n",
        "    )"
      ],
      "metadata": {
        "id": "GODv6PFjCnGM"
      },
      "execution_count": null,
      "outputs": []
    }
  ]
}
